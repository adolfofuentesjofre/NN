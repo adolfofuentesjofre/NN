{
 "cells": [
  {
   "cell_type": "markdown",
   "id": "bc182faf",
   "metadata": {},
   "source": [
    "# Classification and Regression with Tensorflow"
   ]
  },
  {
   "cell_type": "markdown",
   "id": "2332242e",
   "metadata": {},
   "source": [
    "En TensorFlow, específicamente usando la API de Keras, tanto las redes neuronales secuenciales como las no secuenciales (funcionales) ofrecen maneras de definir y entrenar modelos de aprendizaje automático. Sin embargo, tienen diferencias clave en términos de flexibilidad y casos de uso.\n",
    "\n",
    "1. **Red Neuronal Secuencial**:\n",
    "   - **Estructura**: Representa un conjunto lineal de capas.\n",
    "   - **Flexibilidad**: Es adecuada para redes donde una capa sigue directamente a la anterior sin bifurcaciones, saltos u otras conexiones complejas.\n",
    "   - **Simplicidad**: Es más simple y directa para definir redes neuronales con una estructura simple.\n",
    "   - **Uso**: Se define utilizando `Sequential()` en Keras.\n",
    "   ```python\n",
    "   from tensorflow.keras.models import Sequential\n",
    "   from tensorflow.keras.layers import Dense\n",
    "\n",
    "   model = Sequential()\n",
    "   model.add(Dense(128, activation='relu', input_shape=(784,)))\n",
    "   model.add(Dense(10, activation='softmax'))\n",
    "   ```\n",
    "\n",
    "2. **Red Neuronal Funcional (No secuencial)**:\n",
    "   - **Estructura**: No tiene una estructura lineal fija, lo que permite definir modelos con múltiples entradas, múltiples salidas y compartir capas.\n",
    "   - **Flexibilidad**: Es más flexible y puede representar una amplia variedad de arquitecturas, incluyendo aquellas con conexiones residuales, múltiples ramas, etc.\n",
    "   - **Complejidad**: La definición puede parecer más compleja en comparación con el modelo secuencial, pero ofrece una gran potencia para definir arquitecturas personalizadas.\n",
    "   - **Uso**: Se define utilizando la API funcional de Keras.\n",
    "   ```python\n",
    "   from tensorflow.keras.layers import Input, Dense\n",
    "   from tensorflow.keras.models import Model\n",
    "\n",
    "   inputs = Input(shape=(784,))\n",
    "   x = Dense(128, activation='relu')(inputs)\n",
    "   outputs = Dense(10, activation='softmax')(x)\n",
    "   model = Model(inputs=inputs, outputs=outputs)\n",
    "   ```\n",
    "\n",
    "En resumen, para diseñar un modelo donde las capas siguen un flujo directo sin conexiones complicadas, la API `Sequential` es probablemente la más adecuada. Sin embargo, si el modelo tiene conexiones más complejas, múltiples entradas o salidas, o capas compartidas, la API funcional es la mejor opción. "
   ]
  },
  {
   "cell_type": "markdown",
   "id": "a21c30ef",
   "metadata": {},
   "source": [
    "3. **Conjunto de entrenamiento, testeo, validación y parametros**\n",
    "\n",
    "Al entrenar una red neuronal, es común dividir el conjunto de datos en tres subconjuntos distintos: entrenamiento, validación y prueba (o test). Cada uno de estos subconjuntos tiene un propósito específico en el proceso de entrenamiento y evaluación de la red neuronal:\n",
    "\n",
    "**Conjunto de entrenamiento:**\n",
    "El conjunto de entrenamiento es el subconjunto más grande y se utiliza para entrenar la red neuronal. La red ajusta sus parámetros y pesos en función de estos datos para aprender patrones y relaciones en los datos. Durante el entrenamiento, la red minimiza la función de pérdida al comparar sus predicciones con las etiquetas reales del conjunto de entrenamiento. El objetivo es que la red capture patrones generalizables que le permitan hacer predicciones precisas en datos nuevos.\n",
    "\n",
    "**Conjunto de validación:**\n",
    "El conjunto de validación es utilizado para ajustar hiperparámetros y evaluar el rendimiento durante el entrenamiento. Después de cada cierto número de épocas de entrenamiento, la red se evalúa en el conjunto de validación para medir su rendimiento en datos no vistos previamente. Esto ayuda a detectar el sobreajuste o subajuste y a ajustar los hiperparámetros para obtener un mejor rendimiento. El conjunto de validación se utiliza para tomar decisiones sobre la arquitectura de la red, la tasa de aprendizaje y otros parámetros.\n",
    "\n",
    "**Conjunto de prueba (o test)**\n",
    "El conjunto de prueba es un conjunto completamente independiente que la red neuronal nunca ha visto durante el entrenamiento. Se utiliza para medir el rendimiento final y la capacidad de generalización de la red neuronal. Este conjunto proporciona una evaluación objetiva y realista del rendimiento de la red en datos desconocidos. Evaluar la red en el conjunto de prueba permite determinar cómo se comporta en situaciones del mundo real y evita la posibilidad de ajustar la red específicamente para los datos de validación.\n",
    "\n",
    "**El parámetro \"batch_size\"**\n",
    "En una red neuronal se refiere a la cantidad de ejemplos de entrenamiento que se utilizan en cada paso de actualización de los pesos de la red durante el proceso de entrenamiento. En otras palabras, es el número de muestras que se procesan antes de que los gradientes se calculen y los pesos se ajusten mediante la optimización.\n",
    "\n",
    "El entrenamiento de redes neuronales generalmente se realiza utilizando un método llamado descenso de gradiente estocástico (SGD, por sus siglas en inglés) o variantes más avanzadas como el descenso de gradiente mini batch. En lugar de actualizar los pesos después de cada ejemplo de entrenamiento individual (descenso de gradiente completo), se actualizan después de un conjunto de ejemplos (llamado \"lote\" o \"batch\").\n",
    "\n",
    "El tamaño del lote (batch_size) tiene un impacto en cómo se realiza el proceso de entrenamiento y en la utilización de recursos computacionales. "
   ]
  },
  {
   "cell_type": "markdown",
   "id": "643a48c7",
   "metadata": {},
   "source": [
    "## Librerias"
   ]
  },
  {
   "cell_type": "code",
   "execution_count": 143,
   "id": "8c52753f",
   "metadata": {},
   "outputs": [],
   "source": [
    "import pandas as pd\n",
    "import numpy as np\n",
    "import matplotlib.pyplot as plt\n",
    "import tensorflow as tf \n",
    "from tensorflow.keras.layers import Input, Dense, Activation,Dropout\n",
    "from tensorflow.keras.models import Model\n",
    "import os\n",
    "from tensorflow import keras\n",
    "from datetime import datetime\n",
    "import sklearn\n",
    "import itertools\n",
    "from sklearn.metrics import classification_report, confusion_matrix\n",
    "from sklearn.model_selection import train_test_split\n",
    "from sklearn.preprocessing import StandardScaler\n",
    "from sklearn.metrics import mean_squared_error\n",
    "from math import sqrt\n",
    "import matplotlib.pyplot as plt\n",
    "#import datetime"
   ]
  },
  {
   "cell_type": "markdown",
   "id": "b29e089f",
   "metadata": {},
   "source": [
    "## Funciones"
   ]
  },
  {
   "cell_type": "code",
   "execution_count": 129,
   "id": "83a780fd",
   "metadata": {},
   "outputs": [],
   "source": [
    "def print_model_summary(nombre_modelo, model, classificationReport, confusionMatrix):\n",
    "    \"\"\"    \n",
    "    Funcion para los resultados del modelo de Tensorflow en un texto.\n",
    "    Parameters\n",
    "    ----------\n",
    "    nombre_modelo : nombre que uno le da al modelo\n",
    "    model : modelo de tensorflow\n",
    "    classificationReport : classification report de sklearn\n",
    "    confusionMatrix : confusion matrix de sklearn    \n",
    "    -------\n",
    "    \"\"\"    \n",
    "    \n",
    "    f = open('results/metrics_' + nombre_modelo+ '_res.txt', 'w')\n",
    "    f.write('Model: ' + nombre_modelo + '\\n')\n",
    "    f.write('Metrics:'+ '\\n')\n",
    "    f.write(str( classificationReport) + '\\n')\n",
    "    f.write('Confussion Matrix:'+ '\\n')\n",
    "    f.write( str( confusionMatrix) + '\\n')\n",
    "    f.write('\\n')\n",
    "    f.write('\\n')\n",
    "    f.write( str( 'Arquitectura: \\n') )\n",
    "    f.write('\\n')\n",
    "    model.summary(print_fn=lambda x: f.write(x + '\\n'))    \n",
    "    f.close()\n",
    "\n",
    "\n",
    "\n",
    "def plot_metric(history, metric):\n",
    "    \"\"\"\n",
    "    Función para graficar Accuracy en función de las Epocas para \n",
    "    conjunto de Entrenamiento y Validación \n",
    "    \"\"\"\n",
    "    train_metrics = history.history[metric]\n",
    "    val_metrics = history.history['val_'+metric]\n",
    "    epochs = range(1, len(train_metrics) + 1)\n",
    "    plt.plot(epochs, train_metrics, 'bo--')\n",
    "    plt.plot(epochs, val_metrics, 'ro-')\n",
    "    plt.title('Training and validation '+ metric)\n",
    "    plt.xlabel(\"Epochs\")\n",
    "    plt.ylabel(metric)\n",
    "    plt.legend([\"train_\"+metric, 'val_'+metric])\n",
    "    plt.show()\n",
    "\n",
    " \n",
    "def build_model(n_hidden=1, n_output = 1, n_neurons=30,\n",
    "                      input_shape=[8], activation=\"softmax\"):\n",
    "    \"\"\"\n",
    "    Funcion para crear un modelo de red neuronal densa de clasificación\n",
    "    Parametros:\n",
    "    -----------\n",
    "    - n_hidden: number of hidden layers\n",
    "    - n_neurons: number of neurons in each hidden layer\n",
    "    - n_output: number of neurons in the output layer = number of classes    \n",
    "    - activation: activation function to use for the classification (softmax for multiclass, sigmoid for binary)\n",
    "    \"\"\"\n",
    "\n",
    "    model = keras.models.Sequential()\n",
    "    \n",
    "    model.add(keras.layers.InputLayer(input_shape=input_shape))\n",
    "\n",
    "    for layer in range(n_hidden):\n",
    "        model.add(keras.layers.Dense(n_neurons, activation=\"relu\"))\n",
    "    model.add(keras.layers.Dense(n_output, activation=activation))\n",
    "\n",
    "    return model"
   ]
  },
  {
   "cell_type": "markdown",
   "id": "57c1a0df",
   "metadata": {},
   "source": [
    "## 1) Problema de Regresión"
   ]
  },
  {
   "cell_type": "markdown",
   "id": "be6ac2cd",
   "metadata": {},
   "source": [
    "Importamos Data "
   ]
  },
  {
   "cell_type": "code",
   "execution_count": 130,
   "id": "4bb85db7",
   "metadata": {
    "scrolled": false
   },
   "outputs": [
    {
     "data": {
      "text/html": [
       "<div>\n",
       "<style scoped>\n",
       "    .dataframe tbody tr th:only-of-type {\n",
       "        vertical-align: middle;\n",
       "    }\n",
       "\n",
       "    .dataframe tbody tr th {\n",
       "        vertical-align: top;\n",
       "    }\n",
       "\n",
       "    .dataframe thead th {\n",
       "        text-align: right;\n",
       "    }\n",
       "</style>\n",
       "<table border=\"1\" class=\"dataframe\">\n",
       "  <thead>\n",
       "    <tr style=\"text-align: right;\">\n",
       "      <th></th>\n",
       "      <th>Petrol_tax</th>\n",
       "      <th>Average_income</th>\n",
       "      <th>Paved_Highways</th>\n",
       "      <th>Population_Driver_licence(%)</th>\n",
       "      <th>Petrol_Consumption</th>\n",
       "    </tr>\n",
       "  </thead>\n",
       "  <tbody>\n",
       "    <tr>\n",
       "      <th>0</th>\n",
       "      <td>9.0</td>\n",
       "      <td>3571</td>\n",
       "      <td>1976</td>\n",
       "      <td>0.525</td>\n",
       "      <td>541</td>\n",
       "    </tr>\n",
       "    <tr>\n",
       "      <th>1</th>\n",
       "      <td>9.0</td>\n",
       "      <td>4092</td>\n",
       "      <td>1250</td>\n",
       "      <td>0.572</td>\n",
       "      <td>524</td>\n",
       "    </tr>\n",
       "    <tr>\n",
       "      <th>2</th>\n",
       "      <td>9.0</td>\n",
       "      <td>3865</td>\n",
       "      <td>1586</td>\n",
       "      <td>0.580</td>\n",
       "      <td>561</td>\n",
       "    </tr>\n",
       "    <tr>\n",
       "      <th>3</th>\n",
       "      <td>7.5</td>\n",
       "      <td>4870</td>\n",
       "      <td>2351</td>\n",
       "      <td>0.529</td>\n",
       "      <td>414</td>\n",
       "    </tr>\n",
       "    <tr>\n",
       "      <th>4</th>\n",
       "      <td>8.0</td>\n",
       "      <td>4399</td>\n",
       "      <td>431</td>\n",
       "      <td>0.544</td>\n",
       "      <td>410</td>\n",
       "    </tr>\n",
       "  </tbody>\n",
       "</table>\n",
       "</div>"
      ],
      "text/plain": [
       "   Petrol_tax  Average_income  Paved_Highways  Population_Driver_licence(%)  \\\n",
       "0         9.0            3571            1976                         0.525   \n",
       "1         9.0            4092            1250                         0.572   \n",
       "2         9.0            3865            1586                         0.580   \n",
       "3         7.5            4870            2351                         0.529   \n",
       "4         8.0            4399             431                         0.544   \n",
       "\n",
       "   Petrol_Consumption  \n",
       "0                 541  \n",
       "1                 524  \n",
       "2                 561  \n",
       "3                 414  \n",
       "4                 410  "
      ]
     },
     "execution_count": 130,
     "metadata": {},
     "output_type": "execute_result"
    }
   ],
   "source": [
    "petrol_cons = pd.read_csv('data\\petrol_consumption.csv')\n",
    "petrol_cons.head()"
   ]
  },
  {
   "cell_type": "markdown",
   "id": "119d257c",
   "metadata": {},
   "source": [
    "Creamos vectores X e Y"
   ]
  },
  {
   "cell_type": "code",
   "execution_count": 131,
   "id": "caa82979",
   "metadata": {},
   "outputs": [],
   "source": [
    "X = petrol_cons.iloc[:, 0:4].values\n",
    "y = petrol_cons.iloc[:, 4].values"
   ]
  },
  {
   "cell_type": "markdown",
   "id": "293a4c68",
   "metadata": {},
   "source": [
    "Realizamos el split Train (80%) y Test (20%)"
   ]
  },
  {
   "cell_type": "code",
   "execution_count": 132,
   "id": "77359189",
   "metadata": {},
   "outputs": [],
   "source": [
    "X_train, X_test, y_train, y_test = train_test_split(X, y, test_size=0.2, random_state=0)"
   ]
  },
  {
   "cell_type": "markdown",
   "id": "bf3afed3",
   "metadata": {},
   "source": [
    "Se estandariza"
   ]
  },
  {
   "cell_type": "code",
   "execution_count": 133,
   "id": "9de5a0f0",
   "metadata": {
    "scrolled": true
   },
   "outputs": [
    {
     "data": {
      "text/plain": [
       "array([[-1.32525691e-01,  1.50577399e+00,  2.25854636e+00,\n",
       "        -9.15791057e-01],\n",
       "       [-6.28192647e-01, -1.83367022e+00,  2.12333843e-01,\n",
       "        -1.12852703e+00],\n",
       "       [-1.32525691e-01, -1.78897047e+00, -4.54194551e-01,\n",
       "        -5.25775100e-01],\n",
       "       [-1.32525691e-01, -8.78212954e-01,  8.77245103e-01,\n",
       "         4.15208375e-02],\n",
       "       [-6.28192647e-01,  1.27482526e+00,  1.07480487e+00,\n",
       "         2.89712810e-01],\n",
       "       [ 1.35447518e+00, -8.42825648e-01, -1.13743332e+00,\n",
       "         5.92488356e-02],\n",
       "       [-6.28192647e-01, -4.00925436e-02, -4.64436395e-01,\n",
       "         8.21552752e-01],\n",
       "       [-6.28192647e-01,  7.42153173e-01,  2.93282707e-02,\n",
       "         2.61208055e+00],\n",
       "       [-6.28192647e-01,  8.82232011e-04,  1.22196399e+00,\n",
       "         1.65616824e-01],\n",
       "       [ 3.63141265e-01, -2.41241442e-01,  4.54996025e-02,\n",
       "        -2.42127131e-01]])"
      ]
     },
     "execution_count": 133,
     "metadata": {},
     "output_type": "execute_result"
    }
   ],
   "source": [
    "sc = StandardScaler()\n",
    "X_train = sc.fit_transform(X_train) # Se almacena en SC\n",
    "X_test = sc.transform(X_test)  # Utiliza distribución original\n",
    "X_train[0:10]"
   ]
  },
  {
   "cell_type": "markdown",
   "id": "9544ee47",
   "metadata": {},
   "source": [
    "### Arquitectura Red"
   ]
  },
  {
   "cell_type": "code",
   "execution_count": 134,
   "id": "e7ebba13",
   "metadata": {},
   "outputs": [],
   "source": [
    "input_layer = Input(shape=(X.shape[1],))\n",
    "dense_layer_1 = Dense(100, activation='relu')(input_layer)\n",
    "dense_layer_2 = Dense(50, activation='relu')(dense_layer_1)\n",
    "dense_layer_3 = Dense(25, activation='relu')(dense_layer_2)\n",
    "output = Dense(1)(dense_layer_3)"
   ]
  },
  {
   "cell_type": "markdown",
   "id": "00855a20",
   "metadata": {},
   "source": [
    "### Compilación del Modelo"
   ]
  },
  {
   "cell_type": "code",
   "execution_count": 135,
   "id": "ac9b9002",
   "metadata": {},
   "outputs": [],
   "source": [
    "model = Model(inputs=input_layer, outputs=output)\n",
    "model.compile(loss=\"mean_squared_error\" , optimizer=\"adam\", metrics=[\"mean_squared_error\"])"
   ]
  },
  {
   "cell_type": "code",
   "execution_count": 136,
   "id": "56678000",
   "metadata": {},
   "outputs": [
    {
     "name": "stdout",
     "output_type": "stream",
     "text": [
      "Model: \"model_2\"\n",
      "_________________________________________________________________\n",
      " Layer (type)                Output Shape              Param #   \n",
      "=================================================================\n",
      " input_4 (InputLayer)        [(None, 4)]               0         \n",
      "                                                                 \n",
      " dense_13 (Dense)            (None, 100)               500       \n",
      "                                                                 \n",
      " dense_14 (Dense)            (None, 50)                5050      \n",
      "                                                                 \n",
      " dense_15 (Dense)            (None, 25)                1275      \n",
      "                                                                 \n",
      " dense_16 (Dense)            (None, 1)                 26        \n",
      "                                                                 \n",
      "=================================================================\n",
      "Total params: 6,851\n",
      "Trainable params: 6,851\n",
      "Non-trainable params: 0\n",
      "_________________________________________________________________\n"
     ]
    }
   ],
   "source": [
    "model.summary()"
   ]
  },
  {
   "cell_type": "markdown",
   "id": "cf5e8d61",
   "metadata": {},
   "source": [
    "### Entrenamiento del Modelo y Predicción"
   ]
  },
  {
   "cell_type": "code",
   "execution_count": 137,
   "id": "7fd35b3d",
   "metadata": {
    "scrolled": true
   },
   "outputs": [
    {
     "name": "stdout",
     "output_type": "stream",
     "text": [
      "Epoch 1/100\n",
      "15/15 [==============================] - 1s 22ms/step - loss: 341761.7188 - mean_squared_error: 341761.7188 - val_loss: 402145.1562 - val_mean_squared_error: 402145.1562\n",
      "Epoch 2/100\n",
      "15/15 [==============================] - 0s 6ms/step - loss: 341034.3750 - mean_squared_error: 341034.3750 - val_loss: 401217.6875 - val_mean_squared_error: 401217.6875\n",
      "Epoch 3/100\n",
      "15/15 [==============================] - 0s 5ms/step - loss: 339859.1250 - mean_squared_error: 339859.1250 - val_loss: 399685.5625 - val_mean_squared_error: 399685.5625\n",
      "Epoch 4/100\n",
      "15/15 [==============================] - 0s 6ms/step - loss: 337670.5625 - mean_squared_error: 337670.5625 - val_loss: 396687.7500 - val_mean_squared_error: 396687.7500\n",
      "Epoch 5/100\n",
      "15/15 [==============================] - 0s 6ms/step - loss: 333771.3438 - mean_squared_error: 333771.3438 - val_loss: 390975.6875 - val_mean_squared_error: 390975.6875\n",
      "Epoch 6/100\n",
      "15/15 [==============================] - 0s 6ms/step - loss: 325889.4688 - mean_squared_error: 325889.4688 - val_loss: 380845.3750 - val_mean_squared_error: 380845.3750\n",
      "Epoch 7/100\n",
      "15/15 [==============================] - 0s 6ms/step - loss: 311855.1250 - mean_squared_error: 311855.1250 - val_loss: 364311.8438 - val_mean_squared_error: 364311.8438\n",
      "Epoch 8/100\n",
      "15/15 [==============================] - 0s 5ms/step - loss: 289836.8438 - mean_squared_error: 289836.8438 - val_loss: 338713.8125 - val_mean_squared_error: 338713.8125\n",
      "Epoch 9/100\n",
      "15/15 [==============================] - 0s 5ms/step - loss: 256727.4062 - mean_squared_error: 256727.4062 - val_loss: 301608.3438 - val_mean_squared_error: 301608.3438\n",
      "Epoch 10/100\n",
      "15/15 [==============================] - 0s 6ms/step - loss: 211003.2656 - mean_squared_error: 211003.2656 - val_loss: 254559.6562 - val_mean_squared_error: 254559.6562\n",
      "Epoch 11/100\n",
      "15/15 [==============================] - 0s 6ms/step - loss: 154991.3438 - mean_squared_error: 154991.3438 - val_loss: 194159.5781 - val_mean_squared_error: 194159.5781\n",
      "Epoch 12/100\n",
      "15/15 [==============================] - 0s 5ms/step - loss: 97436.1016 - mean_squared_error: 97436.1016 - val_loss: 136821.3281 - val_mean_squared_error: 136821.3281\n",
      "Epoch 13/100\n",
      "15/15 [==============================] - 0s 5ms/step - loss: 51711.5430 - mean_squared_error: 51711.5430 - val_loss: 89302.8203 - val_mean_squared_error: 89302.8203\n",
      "Epoch 14/100\n",
      "15/15 [==============================] - 0s 5ms/step - loss: 29935.6562 - mean_squared_error: 29935.6562 - val_loss: 61158.4688 - val_mean_squared_error: 61158.4688\n",
      "Epoch 15/100\n",
      "15/15 [==============================] - 0s 7ms/step - loss: 20999.3242 - mean_squared_error: 20999.3242 - val_loss: 51577.7031 - val_mean_squared_error: 51577.7031\n",
      "Epoch 16/100\n",
      "15/15 [==============================] - 0s 7ms/step - loss: 18677.4805 - mean_squared_error: 18677.4805 - val_loss: 43661.6250 - val_mean_squared_error: 43661.6250\n",
      "Epoch 17/100\n",
      "15/15 [==============================] - 0s 6ms/step - loss: 16705.1426 - mean_squared_error: 16705.1426 - val_loss: 36656.1445 - val_mean_squared_error: 36656.1445\n",
      "Epoch 18/100\n",
      "15/15 [==============================] - 0s 4ms/step - loss: 14955.2188 - mean_squared_error: 14955.2188 - val_loss: 31858.5859 - val_mean_squared_error: 31858.5859\n",
      "Epoch 19/100\n",
      "15/15 [==============================] - 0s 4ms/step - loss: 13593.7471 - mean_squared_error: 13593.7471 - val_loss: 27767.1680 - val_mean_squared_error: 27767.1680\n",
      "Epoch 20/100\n",
      "15/15 [==============================] - 0s 4ms/step - loss: 13212.4756 - mean_squared_error: 13212.4756 - val_loss: 26198.6953 - val_mean_squared_error: 26198.6953\n",
      "Epoch 21/100\n",
      "15/15 [==============================] - 0s 5ms/step - loss: 11412.1787 - mean_squared_error: 11412.1787 - val_loss: 23849.1660 - val_mean_squared_error: 23849.1660\n",
      "Epoch 22/100\n",
      "15/15 [==============================] - 0s 4ms/step - loss: 10671.5596 - mean_squared_error: 10671.5596 - val_loss: 20312.8203 - val_mean_squared_error: 20312.8203\n",
      "Epoch 23/100\n",
      "15/15 [==============================] - 0s 4ms/step - loss: 10028.2012 - mean_squared_error: 10028.2012 - val_loss: 19624.4805 - val_mean_squared_error: 19624.4805\n",
      "Epoch 24/100\n",
      "15/15 [==============================] - 0s 5ms/step - loss: 9355.5303 - mean_squared_error: 9355.5303 - val_loss: 18428.2910 - val_mean_squared_error: 18428.2910\n",
      "Epoch 25/100\n",
      "15/15 [==============================] - 0s 4ms/step - loss: 8494.9355 - mean_squared_error: 8494.9355 - val_loss: 16713.8145 - val_mean_squared_error: 16713.8145\n",
      "Epoch 26/100\n",
      "15/15 [==============================] - 0s 4ms/step - loss: 8096.4355 - mean_squared_error: 8096.4355 - val_loss: 15540.9893 - val_mean_squared_error: 15540.9893\n",
      "Epoch 27/100\n",
      "15/15 [==============================] - 0s 5ms/step - loss: 7746.3481 - mean_squared_error: 7746.3481 - val_loss: 14971.4893 - val_mean_squared_error: 14971.4893\n",
      "Epoch 28/100\n",
      "15/15 [==============================] - 0s 5ms/step - loss: 7233.8120 - mean_squared_error: 7233.8120 - val_loss: 14868.9238 - val_mean_squared_error: 14868.9238\n",
      "Epoch 29/100\n",
      "15/15 [==============================] - 0s 5ms/step - loss: 6881.6562 - mean_squared_error: 6881.6562 - val_loss: 14025.1152 - val_mean_squared_error: 14025.1152\n",
      "Epoch 30/100\n",
      "15/15 [==============================] - 0s 5ms/step - loss: 6642.0376 - mean_squared_error: 6642.0376 - val_loss: 13936.5986 - val_mean_squared_error: 13936.5986\n",
      "Epoch 31/100\n",
      "15/15 [==============================] - 0s 5ms/step - loss: 6369.1895 - mean_squared_error: 6369.1895 - val_loss: 13193.1025 - val_mean_squared_error: 13193.1025\n",
      "Epoch 32/100\n",
      "15/15 [==============================] - 0s 5ms/step - loss: 5953.9185 - mean_squared_error: 5953.9185 - val_loss: 13286.6709 - val_mean_squared_error: 13286.6709\n",
      "Epoch 33/100\n",
      "15/15 [==============================] - 0s 4ms/step - loss: 5907.4248 - mean_squared_error: 5907.4248 - val_loss: 13363.2363 - val_mean_squared_error: 13363.2363\n",
      "Epoch 34/100\n",
      "15/15 [==============================] - 0s 5ms/step - loss: 5459.2876 - mean_squared_error: 5459.2876 - val_loss: 12844.1152 - val_mean_squared_error: 12844.1152\n",
      "Epoch 35/100\n",
      "15/15 [==============================] - 0s 5ms/step - loss: 5213.2397 - mean_squared_error: 5213.2397 - val_loss: 12327.2773 - val_mean_squared_error: 12327.2773\n",
      "Epoch 36/100\n",
      "15/15 [==============================] - 0s 5ms/step - loss: 4972.1650 - mean_squared_error: 4972.1650 - val_loss: 12197.1953 - val_mean_squared_error: 12197.1953\n",
      "Epoch 37/100\n",
      "15/15 [==============================] - 0s 5ms/step - loss: 4751.0562 - mean_squared_error: 4751.0562 - val_loss: 12177.8662 - val_mean_squared_error: 12177.8662\n",
      "Epoch 38/100\n",
      "15/15 [==============================] - 0s 5ms/step - loss: 4715.9897 - mean_squared_error: 4715.9897 - val_loss: 12325.8691 - val_mean_squared_error: 12325.8691\n",
      "Epoch 39/100\n",
      "15/15 [==============================] - 0s 4ms/step - loss: 4386.0708 - mean_squared_error: 4386.0708 - val_loss: 12086.2324 - val_mean_squared_error: 12086.2324\n",
      "Epoch 40/100\n",
      "15/15 [==============================] - 0s 5ms/step - loss: 4229.1401 - mean_squared_error: 4229.1401 - val_loss: 11917.7246 - val_mean_squared_error: 11917.7246\n",
      "Epoch 41/100\n",
      "15/15 [==============================] - 0s 5ms/step - loss: 4104.4009 - mean_squared_error: 4104.4009 - val_loss: 11754.3145 - val_mean_squared_error: 11754.3145\n",
      "Epoch 42/100\n",
      "15/15 [==============================] - 0s 5ms/step - loss: 3915.2837 - mean_squared_error: 3915.2837 - val_loss: 11755.8213 - val_mean_squared_error: 11755.8213\n",
      "Epoch 43/100\n",
      "15/15 [==============================] - 0s 5ms/step - loss: 3882.6499 - mean_squared_error: 3882.6499 - val_loss: 11831.6650 - val_mean_squared_error: 11831.6650\n",
      "Epoch 44/100\n",
      "15/15 [==============================] - 0s 5ms/step - loss: 3701.1487 - mean_squared_error: 3701.1487 - val_loss: 11555.7900 - val_mean_squared_error: 11555.7900\n",
      "Epoch 45/100\n",
      "15/15 [==============================] - 0s 5ms/step - loss: 3542.0947 - mean_squared_error: 3542.0947 - val_loss: 11442.7266 - val_mean_squared_error: 11442.7266\n",
      "Epoch 46/100\n",
      "15/15 [==============================] - 0s 5ms/step - loss: 3497.3198 - mean_squared_error: 3497.3198 - val_loss: 11553.6191 - val_mean_squared_error: 11553.6191\n",
      "Epoch 47/100\n"
     ]
    },
    {
     "name": "stdout",
     "output_type": "stream",
     "text": [
      "15/15 [==============================] - 0s 5ms/step - loss: 3368.9270 - mean_squared_error: 3368.9270 - val_loss: 11426.5664 - val_mean_squared_error: 11426.5664\n",
      "Epoch 48/100\n",
      "15/15 [==============================] - 0s 5ms/step - loss: 3263.9968 - mean_squared_error: 3263.9968 - val_loss: 11507.8232 - val_mean_squared_error: 11507.8232\n",
      "Epoch 49/100\n",
      "15/15 [==============================] - 0s 5ms/step - loss: 3199.8347 - mean_squared_error: 3199.8347 - val_loss: 11444.1504 - val_mean_squared_error: 11444.1504\n",
      "Epoch 50/100\n",
      "15/15 [==============================] - 0s 5ms/step - loss: 3099.6294 - mean_squared_error: 3099.6294 - val_loss: 11349.6621 - val_mean_squared_error: 11349.6621\n",
      "Epoch 51/100\n",
      "15/15 [==============================] - 0s 4ms/step - loss: 2926.1223 - mean_squared_error: 2926.1223 - val_loss: 11200.4170 - val_mean_squared_error: 11200.4170\n",
      "Epoch 52/100\n",
      "15/15 [==============================] - 0s 5ms/step - loss: 2838.7175 - mean_squared_error: 2838.7175 - val_loss: 11145.2246 - val_mean_squared_error: 11145.2246\n",
      "Epoch 53/100\n",
      "15/15 [==============================] - 0s 5ms/step - loss: 2780.2373 - mean_squared_error: 2780.2373 - val_loss: 10970.0742 - val_mean_squared_error: 10970.0742\n",
      "Epoch 54/100\n",
      "15/15 [==============================] - 0s 4ms/step - loss: 2713.8640 - mean_squared_error: 2713.8640 - val_loss: 11034.6055 - val_mean_squared_error: 11034.6055\n",
      "Epoch 55/100\n",
      "15/15 [==============================] - 0s 5ms/step - loss: 2677.8677 - mean_squared_error: 2677.8677 - val_loss: 11040.9082 - val_mean_squared_error: 11040.9082\n",
      "Epoch 56/100\n",
      "15/15 [==============================] - 0s 5ms/step - loss: 2680.1531 - mean_squared_error: 2680.1531 - val_loss: 11114.8711 - val_mean_squared_error: 11114.8711\n",
      "Epoch 57/100\n",
      "15/15 [==============================] - 0s 4ms/step - loss: 2567.0015 - mean_squared_error: 2567.0015 - val_loss: 10733.2490 - val_mean_squared_error: 10733.2490\n",
      "Epoch 58/100\n",
      "15/15 [==============================] - 0s 5ms/step - loss: 2494.8796 - mean_squared_error: 2494.8796 - val_loss: 11038.3262 - val_mean_squared_error: 11038.3262\n",
      "Epoch 59/100\n",
      "15/15 [==============================] - 0s 4ms/step - loss: 2418.9761 - mean_squared_error: 2418.9761 - val_loss: 10999.3066 - val_mean_squared_error: 10999.3066\n",
      "Epoch 60/100\n",
      "15/15 [==============================] - 0s 4ms/step - loss: 2384.2883 - mean_squared_error: 2384.2883 - val_loss: 10839.1270 - val_mean_squared_error: 10839.1270\n",
      "Epoch 61/100\n",
      "15/15 [==============================] - 0s 5ms/step - loss: 2392.3748 - mean_squared_error: 2392.3748 - val_loss: 11016.5703 - val_mean_squared_error: 11016.5703\n",
      "Epoch 62/100\n",
      "15/15 [==============================] - 0s 5ms/step - loss: 2277.0688 - mean_squared_error: 2277.0688 - val_loss: 10816.7832 - val_mean_squared_error: 10816.7832\n",
      "Epoch 63/100\n",
      "15/15 [==============================] - 0s 5ms/step - loss: 2275.8352 - mean_squared_error: 2275.8352 - val_loss: 10787.0020 - val_mean_squared_error: 10787.0020\n",
      "Epoch 64/100\n",
      "15/15 [==============================] - 0s 5ms/step - loss: 2240.4062 - mean_squared_error: 2240.4062 - val_loss: 10801.6035 - val_mean_squared_error: 10801.6035\n",
      "Epoch 65/100\n",
      "15/15 [==============================] - 0s 5ms/step - loss: 2179.6746 - mean_squared_error: 2179.6746 - val_loss: 10685.3018 - val_mean_squared_error: 10685.3018\n",
      "Epoch 66/100\n",
      "15/15 [==============================] - 0s 4ms/step - loss: 2170.9087 - mean_squared_error: 2170.9087 - val_loss: 10720.2227 - val_mean_squared_error: 10720.2227\n",
      "Epoch 67/100\n",
      "15/15 [==============================] - 0s 4ms/step - loss: 2216.6782 - mean_squared_error: 2216.6782 - val_loss: 10827.9258 - val_mean_squared_error: 10827.9258\n",
      "Epoch 68/100\n",
      "15/15 [==============================] - 0s 5ms/step - loss: 2165.8274 - mean_squared_error: 2165.8274 - val_loss: 10935.7500 - val_mean_squared_error: 10935.7500\n",
      "Epoch 69/100\n",
      "15/15 [==============================] - 0s 4ms/step - loss: 2074.9531 - mean_squared_error: 2074.9531 - val_loss: 10839.8594 - val_mean_squared_error: 10839.8594\n",
      "Epoch 70/100\n",
      "15/15 [==============================] - 0s 4ms/step - loss: 2037.0392 - mean_squared_error: 2037.0392 - val_loss: 10772.1191 - val_mean_squared_error: 10772.1191\n",
      "Epoch 71/100\n",
      "15/15 [==============================] - 0s 6ms/step - loss: 1985.8279 - mean_squared_error: 1985.8279 - val_loss: 10624.8701 - val_mean_squared_error: 10624.8701\n",
      "Epoch 72/100\n",
      "15/15 [==============================] - 0s 6ms/step - loss: 1988.1395 - mean_squared_error: 1988.1395 - val_loss: 10498.0361 - val_mean_squared_error: 10498.0361\n",
      "Epoch 73/100\n",
      "15/15 [==============================] - 0s 5ms/step - loss: 1938.4368 - mean_squared_error: 1938.4368 - val_loss: 10812.2324 - val_mean_squared_error: 10812.2324\n",
      "Epoch 74/100\n",
      "15/15 [==============================] - 0s 5ms/step - loss: 1983.8999 - mean_squared_error: 1983.8999 - val_loss: 10544.2676 - val_mean_squared_error: 10544.2676\n",
      "Epoch 75/100\n",
      "15/15 [==============================] - 0s 5ms/step - loss: 1959.1726 - mean_squared_error: 1959.1726 - val_loss: 10732.3281 - val_mean_squared_error: 10732.3281\n",
      "Epoch 76/100\n",
      "15/15 [==============================] - 0s 4ms/step - loss: 1950.0084 - mean_squared_error: 1950.0084 - val_loss: 10709.6348 - val_mean_squared_error: 10709.6348\n",
      "Epoch 77/100\n",
      "15/15 [==============================] - 0s 5ms/step - loss: 1913.5406 - mean_squared_error: 1913.5406 - val_loss: 10490.0518 - val_mean_squared_error: 10490.0518\n",
      "Epoch 78/100\n",
      "15/15 [==============================] - 0s 5ms/step - loss: 1884.5966 - mean_squared_error: 1884.5966 - val_loss: 10658.7900 - val_mean_squared_error: 10658.7900\n",
      "Epoch 79/100\n",
      "15/15 [==============================] - 0s 5ms/step - loss: 1801.2600 - mean_squared_error: 1801.2600 - val_loss: 10412.0156 - val_mean_squared_error: 10412.0156\n",
      "Epoch 80/100\n",
      "15/15 [==============================] - 0s 5ms/step - loss: 1820.2239 - mean_squared_error: 1820.2239 - val_loss: 10413.6895 - val_mean_squared_error: 10413.6895\n",
      "Epoch 81/100\n",
      "15/15 [==============================] - 0s 4ms/step - loss: 1804.9142 - mean_squared_error: 1804.9142 - val_loss: 10546.2295 - val_mean_squared_error: 10546.2295\n",
      "Epoch 82/100\n",
      "15/15 [==============================] - 0s 5ms/step - loss: 1755.7965 - mean_squared_error: 1755.7965 - val_loss: 10440.7803 - val_mean_squared_error: 10440.7803\n",
      "Epoch 83/100\n",
      "15/15 [==============================] - 0s 5ms/step - loss: 1815.3151 - mean_squared_error: 1815.3151 - val_loss: 10655.7676 - val_mean_squared_error: 10655.7676\n",
      "Epoch 84/100\n",
      "15/15 [==============================] - 0s 5ms/step - loss: 1715.7578 - mean_squared_error: 1715.7578 - val_loss: 10629.5830 - val_mean_squared_error: 10629.5830\n",
      "Epoch 85/100\n",
      "15/15 [==============================] - 0s 5ms/step - loss: 1828.2767 - mean_squared_error: 1828.2767 - val_loss: 10921.5449 - val_mean_squared_error: 10921.5449\n",
      "Epoch 86/100\n",
      "15/15 [==============================] - 0s 5ms/step - loss: 1758.3140 - mean_squared_error: 1758.3140 - val_loss: 10286.2363 - val_mean_squared_error: 10286.2363\n",
      "Epoch 87/100\n",
      "15/15 [==============================] - 0s 5ms/step - loss: 1731.4012 - mean_squared_error: 1731.4012 - val_loss: 10319.9004 - val_mean_squared_error: 10319.9004\n",
      "Epoch 88/100\n",
      "15/15 [==============================] - 0s 5ms/step - loss: 1881.4280 - mean_squared_error: 1881.4280 - val_loss: 10597.8105 - val_mean_squared_error: 10597.8105\n",
      "Epoch 89/100\n",
      "15/15 [==============================] - 0s 4ms/step - loss: 1705.1200 - mean_squared_error: 1705.1200 - val_loss: 10297.1650 - val_mean_squared_error: 10297.1650\n",
      "Epoch 90/100\n",
      "15/15 [==============================] - 0s 5ms/step - loss: 1674.2621 - mean_squared_error: 1674.2621 - val_loss: 10445.5566 - val_mean_squared_error: 10445.5566\n",
      "Epoch 91/100\n",
      "15/15 [==============================] - 0s 5ms/step - loss: 1682.8943 - mean_squared_error: 1682.8943 - val_loss: 10705.0273 - val_mean_squared_error: 10705.0273\n",
      "Epoch 92/100\n",
      "15/15 [==============================] - 0s 5ms/step - loss: 1630.7385 - mean_squared_error: 1630.7385 - val_loss: 10517.7900 - val_mean_squared_error: 10517.7900\n",
      "Epoch 93/100\n",
      "15/15 [==============================] - 0s 5ms/step - loss: 1629.5747 - mean_squared_error: 1629.5747 - val_loss: 10492.5645 - val_mean_squared_error: 10492.5645\n"
     ]
    },
    {
     "name": "stdout",
     "output_type": "stream",
     "text": [
      "Epoch 94/100\n",
      "15/15 [==============================] - 0s 7ms/step - loss: 1619.9243 - mean_squared_error: 1619.9243 - val_loss: 10382.0137 - val_mean_squared_error: 10382.0137\n",
      "Epoch 95/100\n",
      "15/15 [==============================] - 0s 5ms/step - loss: 1598.1141 - mean_squared_error: 1598.1141 - val_loss: 10257.1758 - val_mean_squared_error: 10257.1758\n",
      "Epoch 96/100\n",
      "15/15 [==============================] - 0s 5ms/step - loss: 1581.6401 - mean_squared_error: 1581.6401 - val_loss: 10502.0469 - val_mean_squared_error: 10502.0469\n",
      "Epoch 97/100\n",
      "15/15 [==============================] - 0s 4ms/step - loss: 1592.7589 - mean_squared_error: 1592.7589 - val_loss: 10437.0410 - val_mean_squared_error: 10437.0410\n",
      "Epoch 98/100\n",
      "15/15 [==============================] - 0s 5ms/step - loss: 1561.1501 - mean_squared_error: 1561.1501 - val_loss: 10429.5410 - val_mean_squared_error: 10429.5410\n",
      "Epoch 99/100\n",
      "15/15 [==============================] - 0s 5ms/step - loss: 1575.4869 - mean_squared_error: 1575.4869 - val_loss: 10377.4043 - val_mean_squared_error: 10377.4043\n",
      "Epoch 100/100\n",
      "15/15 [==============================] - 0s 4ms/step - loss: 1545.1700 - mean_squared_error: 1545.1700 - val_loss: 10414.6885 - val_mean_squared_error: 10414.6885\n",
      "2/2 [==============================] - 0s 0s/step\n",
      "1/1 [==============================] - 0s 32ms/step\n"
     ]
    }
   ],
   "source": [
    "history = model.fit(X_train, y_train, batch_size=2, epochs=100, verbose=1, validation_split=0.2)\n",
    "pred_train = model.predict(X_train)\n",
    "pred = model.predict(X_test)"
   ]
  },
  {
   "cell_type": "markdown",
   "id": "b483516c",
   "metadata": {},
   "source": [
    "### Resultados"
   ]
  },
  {
   "cell_type": "markdown",
   "id": "9c1dae3a",
   "metadata": {},
   "source": [
    "Resultados en Entrenamiento"
   ]
  },
  {
   "cell_type": "code",
   "execution_count": 138,
   "id": "c5c1f4ed",
   "metadata": {},
   "outputs": [
    {
     "name": "stdout",
     "output_type": "stream",
     "text": [
      "58.0650032228811\n"
     ]
    }
   ],
   "source": [
    "print(np.sqrt(mean_squared_error(y_train,pred_train)))"
   ]
  },
  {
   "cell_type": "markdown",
   "id": "aa1503db",
   "metadata": {},
   "source": [
    "Resultados en Test"
   ]
  },
  {
   "cell_type": "code",
   "execution_count": 139,
   "id": "a1c0f868",
   "metadata": {},
   "outputs": [
    {
     "name": "stdout",
     "output_type": "stream",
     "text": [
      "91.24967962375646\n"
     ]
    }
   ],
   "source": [
    "print(np.sqrt(mean_squared_error(y_test,pred)))"
   ]
  },
  {
   "cell_type": "markdown",
   "id": "1bf061ab",
   "metadata": {},
   "source": [
    "### Plot "
   ]
  },
  {
   "cell_type": "code",
   "execution_count": 140,
   "id": "1a0228d8",
   "metadata": {},
   "outputs": [
    {
     "data": {
      "image/png": "[encoded data removed]",
      "text/plain": [
       "<Figure size 640x480 with 1 Axes>"
      ]
     },
     "metadata": {},
     "output_type": "display_data"
    }
   ],
   "source": [
    "plot_metric(history, 'mean_squared_error')"
   ]
  },
  {
   "cell_type": "markdown",
   "id": "d725790f",
   "metadata": {},
   "source": [
    "## 2) Problema de Regresión"
   ]
  },
  {
   "cell_type": "code",
   "execution_count": 95,
   "id": "91fc84a9",
   "metadata": {},
   "outputs": [
    {
     "data": {
      "text/html": [
       "<div>\n",
       "<style scoped>\n",
       "    .dataframe tbody tr th:only-of-type {\n",
       "        vertical-align: middle;\n",
       "    }\n",
       "\n",
       "    .dataframe tbody tr th {\n",
       "        vertical-align: top;\n",
       "    }\n",
       "\n",
       "    .dataframe thead th {\n",
       "        text-align: right;\n",
       "    }\n",
       "</style>\n",
       "<table border=\"1\" class=\"dataframe\">\n",
       "  <thead>\n",
       "    <tr style=\"text-align: right;\">\n",
       "      <th></th>\n",
       "      <th>price</th>\n",
       "      <th>maint</th>\n",
       "      <th>doors</th>\n",
       "      <th>persons</th>\n",
       "      <th>lug_capacity</th>\n",
       "      <th>safety</th>\n",
       "      <th>output</th>\n",
       "    </tr>\n",
       "  </thead>\n",
       "  <tbody>\n",
       "    <tr>\n",
       "      <th>0</th>\n",
       "      <td>vhigh</td>\n",
       "      <td>vhigh</td>\n",
       "      <td>2</td>\n",
       "      <td>2</td>\n",
       "      <td>small</td>\n",
       "      <td>low</td>\n",
       "      <td>unacc</td>\n",
       "    </tr>\n",
       "    <tr>\n",
       "      <th>1</th>\n",
       "      <td>vhigh</td>\n",
       "      <td>vhigh</td>\n",
       "      <td>2</td>\n",
       "      <td>2</td>\n",
       "      <td>small</td>\n",
       "      <td>med</td>\n",
       "      <td>unacc</td>\n",
       "    </tr>\n",
       "    <tr>\n",
       "      <th>2</th>\n",
       "      <td>vhigh</td>\n",
       "      <td>vhigh</td>\n",
       "      <td>2</td>\n",
       "      <td>2</td>\n",
       "      <td>small</td>\n",
       "      <td>high</td>\n",
       "      <td>unacc</td>\n",
       "    </tr>\n",
       "    <tr>\n",
       "      <th>3</th>\n",
       "      <td>vhigh</td>\n",
       "      <td>vhigh</td>\n",
       "      <td>2</td>\n",
       "      <td>2</td>\n",
       "      <td>med</td>\n",
       "      <td>low</td>\n",
       "      <td>unacc</td>\n",
       "    </tr>\n",
       "    <tr>\n",
       "      <th>4</th>\n",
       "      <td>vhigh</td>\n",
       "      <td>vhigh</td>\n",
       "      <td>2</td>\n",
       "      <td>2</td>\n",
       "      <td>med</td>\n",
       "      <td>med</td>\n",
       "      <td>unacc</td>\n",
       "    </tr>\n",
       "    <tr>\n",
       "      <th>...</th>\n",
       "      <td>...</td>\n",
       "      <td>...</td>\n",
       "      <td>...</td>\n",
       "      <td>...</td>\n",
       "      <td>...</td>\n",
       "      <td>...</td>\n",
       "      <td>...</td>\n",
       "    </tr>\n",
       "    <tr>\n",
       "      <th>1723</th>\n",
       "      <td>low</td>\n",
       "      <td>low</td>\n",
       "      <td>5more</td>\n",
       "      <td>more</td>\n",
       "      <td>med</td>\n",
       "      <td>med</td>\n",
       "      <td>good</td>\n",
       "    </tr>\n",
       "    <tr>\n",
       "      <th>1724</th>\n",
       "      <td>low</td>\n",
       "      <td>low</td>\n",
       "      <td>5more</td>\n",
       "      <td>more</td>\n",
       "      <td>med</td>\n",
       "      <td>high</td>\n",
       "      <td>vgood</td>\n",
       "    </tr>\n",
       "    <tr>\n",
       "      <th>1725</th>\n",
       "      <td>low</td>\n",
       "      <td>low</td>\n",
       "      <td>5more</td>\n",
       "      <td>more</td>\n",
       "      <td>big</td>\n",
       "      <td>low</td>\n",
       "      <td>unacc</td>\n",
       "    </tr>\n",
       "    <tr>\n",
       "      <th>1726</th>\n",
       "      <td>low</td>\n",
       "      <td>low</td>\n",
       "      <td>5more</td>\n",
       "      <td>more</td>\n",
       "      <td>big</td>\n",
       "      <td>med</td>\n",
       "      <td>good</td>\n",
       "    </tr>\n",
       "    <tr>\n",
       "      <th>1727</th>\n",
       "      <td>low</td>\n",
       "      <td>low</td>\n",
       "      <td>5more</td>\n",
       "      <td>more</td>\n",
       "      <td>big</td>\n",
       "      <td>high</td>\n",
       "      <td>vgood</td>\n",
       "    </tr>\n",
       "  </tbody>\n",
       "</table>\n",
       "<p>1728 rows × 7 columns</p>\n",
       "</div>"
      ],
      "text/plain": [
       "      price  maint  doors persons lug_capacity safety output\n",
       "0     vhigh  vhigh      2       2        small    low  unacc\n",
       "1     vhigh  vhigh      2       2        small    med  unacc\n",
       "2     vhigh  vhigh      2       2        small   high  unacc\n",
       "3     vhigh  vhigh      2       2          med    low  unacc\n",
       "4     vhigh  vhigh      2       2          med    med  unacc\n",
       "...     ...    ...    ...     ...          ...    ...    ...\n",
       "1723    low    low  5more    more          med    med   good\n",
       "1724    low    low  5more    more          med   high  vgood\n",
       "1725    low    low  5more    more          big    low  unacc\n",
       "1726    low    low  5more    more          big    med   good\n",
       "1727    low    low  5more    more          big   high  vgood\n",
       "\n",
       "[1728 rows x 7 columns]"
      ]
     },
     "execution_count": 95,
     "metadata": {},
     "output_type": "execute_result"
    }
   ],
   "source": [
    "cols = ['price', 'maint', 'doors', 'persons', 'lug_capacity', 'safety','output']\n",
    "cars = pd.read_csv('data\\car_dataset.csv', names=cols, header=None)\n",
    "cars"
   ]
  },
  {
   "cell_type": "markdown",
   "id": "75342502",
   "metadata": {},
   "source": [
    "### Preprocesing"
   ]
  },
  {
   "cell_type": "code",
   "execution_count": 96,
   "id": "79227b8f",
   "metadata": {},
   "outputs": [],
   "source": [
    "price = pd.get_dummies(cars.price, prefix='price')\n",
    "maint = pd.get_dummies(cars.maint, prefix='maint')\n",
    "doors = pd.get_dummies(cars.doors, prefix='doors')\n",
    "persons = pd.get_dummies(cars.persons, prefix='persons')\n",
    "lug_capacity = pd.get_dummies(cars.lug_capacity, prefix='lug_capacity')\n",
    "safety = pd.get_dummies(cars.safety, prefix='safety')\n",
    "labels = pd.get_dummies(cars.output, prefix='condition')"
   ]
  },
  {
   "cell_type": "code",
   "execution_count": 97,
   "id": "e45ee985",
   "metadata": {},
   "outputs": [
    {
     "data": {
      "text/html": [
       "<div>\n",
       "<style scoped>\n",
       "    .dataframe tbody tr th:only-of-type {\n",
       "        vertical-align: middle;\n",
       "    }\n",
       "\n",
       "    .dataframe tbody tr th {\n",
       "        vertical-align: top;\n",
       "    }\n",
       "\n",
       "    .dataframe thead th {\n",
       "        text-align: right;\n",
       "    }\n",
       "</style>\n",
       "<table border=\"1\" class=\"dataframe\">\n",
       "  <thead>\n",
       "    <tr style=\"text-align: right;\">\n",
       "      <th></th>\n",
       "      <th>price_high</th>\n",
       "      <th>price_low</th>\n",
       "      <th>price_med</th>\n",
       "      <th>price_vhigh</th>\n",
       "      <th>maint_high</th>\n",
       "      <th>maint_low</th>\n",
       "      <th>maint_med</th>\n",
       "      <th>maint_vhigh</th>\n",
       "      <th>doors_2</th>\n",
       "      <th>doors_3</th>\n",
       "      <th>...</th>\n",
       "      <th>doors_5more</th>\n",
       "      <th>persons_2</th>\n",
       "      <th>persons_4</th>\n",
       "      <th>persons_more</th>\n",
       "      <th>lug_capacity_big</th>\n",
       "      <th>lug_capacity_med</th>\n",
       "      <th>lug_capacity_small</th>\n",
       "      <th>safety_high</th>\n",
       "      <th>safety_low</th>\n",
       "      <th>safety_med</th>\n",
       "    </tr>\n",
       "  </thead>\n",
       "  <tbody>\n",
       "    <tr>\n",
       "      <th>0</th>\n",
       "      <td>0</td>\n",
       "      <td>0</td>\n",
       "      <td>0</td>\n",
       "      <td>1</td>\n",
       "      <td>0</td>\n",
       "      <td>0</td>\n",
       "      <td>0</td>\n",
       "      <td>1</td>\n",
       "      <td>1</td>\n",
       "      <td>0</td>\n",
       "      <td>...</td>\n",
       "      <td>0</td>\n",
       "      <td>1</td>\n",
       "      <td>0</td>\n",
       "      <td>0</td>\n",
       "      <td>0</td>\n",
       "      <td>0</td>\n",
       "      <td>1</td>\n",
       "      <td>0</td>\n",
       "      <td>1</td>\n",
       "      <td>0</td>\n",
       "    </tr>\n",
       "    <tr>\n",
       "      <th>1</th>\n",
       "      <td>0</td>\n",
       "      <td>0</td>\n",
       "      <td>0</td>\n",
       "      <td>1</td>\n",
       "      <td>0</td>\n",
       "      <td>0</td>\n",
       "      <td>0</td>\n",
       "      <td>1</td>\n",
       "      <td>1</td>\n",
       "      <td>0</td>\n",
       "      <td>...</td>\n",
       "      <td>0</td>\n",
       "      <td>1</td>\n",
       "      <td>0</td>\n",
       "      <td>0</td>\n",
       "      <td>0</td>\n",
       "      <td>0</td>\n",
       "      <td>1</td>\n",
       "      <td>0</td>\n",
       "      <td>0</td>\n",
       "      <td>1</td>\n",
       "    </tr>\n",
       "    <tr>\n",
       "      <th>2</th>\n",
       "      <td>0</td>\n",
       "      <td>0</td>\n",
       "      <td>0</td>\n",
       "      <td>1</td>\n",
       "      <td>0</td>\n",
       "      <td>0</td>\n",
       "      <td>0</td>\n",
       "      <td>1</td>\n",
       "      <td>1</td>\n",
       "      <td>0</td>\n",
       "      <td>...</td>\n",
       "      <td>0</td>\n",
       "      <td>1</td>\n",
       "      <td>0</td>\n",
       "      <td>0</td>\n",
       "      <td>0</td>\n",
       "      <td>0</td>\n",
       "      <td>1</td>\n",
       "      <td>1</td>\n",
       "      <td>0</td>\n",
       "      <td>0</td>\n",
       "    </tr>\n",
       "    <tr>\n",
       "      <th>3</th>\n",
       "      <td>0</td>\n",
       "      <td>0</td>\n",
       "      <td>0</td>\n",
       "      <td>1</td>\n",
       "      <td>0</td>\n",
       "      <td>0</td>\n",
       "      <td>0</td>\n",
       "      <td>1</td>\n",
       "      <td>1</td>\n",
       "      <td>0</td>\n",
       "      <td>...</td>\n",
       "      <td>0</td>\n",
       "      <td>1</td>\n",
       "      <td>0</td>\n",
       "      <td>0</td>\n",
       "      <td>0</td>\n",
       "      <td>1</td>\n",
       "      <td>0</td>\n",
       "      <td>0</td>\n",
       "      <td>1</td>\n",
       "      <td>0</td>\n",
       "    </tr>\n",
       "    <tr>\n",
       "      <th>4</th>\n",
       "      <td>0</td>\n",
       "      <td>0</td>\n",
       "      <td>0</td>\n",
       "      <td>1</td>\n",
       "      <td>0</td>\n",
       "      <td>0</td>\n",
       "      <td>0</td>\n",
       "      <td>1</td>\n",
       "      <td>1</td>\n",
       "      <td>0</td>\n",
       "      <td>...</td>\n",
       "      <td>0</td>\n",
       "      <td>1</td>\n",
       "      <td>0</td>\n",
       "      <td>0</td>\n",
       "      <td>0</td>\n",
       "      <td>1</td>\n",
       "      <td>0</td>\n",
       "      <td>0</td>\n",
       "      <td>0</td>\n",
       "      <td>1</td>\n",
       "    </tr>\n",
       "  </tbody>\n",
       "</table>\n",
       "<p>5 rows × 21 columns</p>\n",
       "</div>"
      ],
      "text/plain": [
       "   price_high  price_low  price_med  price_vhigh  maint_high  maint_low  \\\n",
       "0           0          0          0            1           0          0   \n",
       "1           0          0          0            1           0          0   \n",
       "2           0          0          0            1           0          0   \n",
       "3           0          0          0            1           0          0   \n",
       "4           0          0          0            1           0          0   \n",
       "\n",
       "   maint_med  maint_vhigh  doors_2  doors_3  ...  doors_5more  persons_2  \\\n",
       "0          0            1        1        0  ...            0          1   \n",
       "1          0            1        1        0  ...            0          1   \n",
       "2          0            1        1        0  ...            0          1   \n",
       "3          0            1        1        0  ...            0          1   \n",
       "4          0            1        1        0  ...            0          1   \n",
       "\n",
       "   persons_4  persons_more  lug_capacity_big  lug_capacity_med  \\\n",
       "0          0             0                 0                 0   \n",
       "1          0             0                 0                 0   \n",
       "2          0             0                 0                 0   \n",
       "3          0             0                 0                 1   \n",
       "4          0             0                 0                 1   \n",
       "\n",
       "   lug_capacity_small  safety_high  safety_low  safety_med  \n",
       "0                   1            0           1           0  \n",
       "1                   1            0           0           1  \n",
       "2                   1            1           0           0  \n",
       "3                   0            0           1           0  \n",
       "4                   0            0           0           1  \n",
       "\n",
       "[5 rows x 21 columns]"
      ]
     },
     "execution_count": 97,
     "metadata": {},
     "output_type": "execute_result"
    }
   ],
   "source": [
    "X = pd.concat([price, maint, doors, persons, lug_capacity, safety] , axis=1)\n",
    "y = labels.values\n",
    "X.head()"
   ]
  },
  {
   "cell_type": "markdown",
   "id": "4d89b459",
   "metadata": {},
   "source": [
    "### Split"
   ]
  },
  {
   "cell_type": "code",
   "execution_count": 98,
   "id": "93c28723",
   "metadata": {},
   "outputs": [],
   "source": [
    "X_train, X_test, y_train, y_test = train_test_split(X, y, test_size=0.20, random_state=42)"
   ]
  },
  {
   "cell_type": "markdown",
   "id": "7d5bab94",
   "metadata": {},
   "source": [
    "### Arquitectura"
   ]
  },
  {
   "cell_type": "code",
   "execution_count": 99,
   "id": "8b8267b8",
   "metadata": {},
   "outputs": [],
   "source": [
    "input_layer = Input(shape=(X.shape[1],)) \n",
    "dense_layer_1 = Dense(15, activation='relu')(input_layer)\n",
    "dense_layer_2 = Dense(10, activation='relu')(dense_layer_1)\n",
    "output = Dense(y.shape[1], activation='softmax')(dense_layer_2)"
   ]
  },
  {
   "cell_type": "markdown",
   "id": "3b34652d",
   "metadata": {},
   "source": [
    "### Compile"
   ]
  },
  {
   "cell_type": "code",
   "execution_count": 100,
   "id": "e5606ffc",
   "metadata": {},
   "outputs": [
    {
     "name": "stdout",
     "output_type": "stream",
     "text": [
      "Model: \"model\"\n",
      "_________________________________________________________________\n",
      " Layer (type)                Output Shape              Param #   \n",
      "=================================================================\n",
      " input_2 (InputLayer)        [(None, 21)]              0         \n",
      "                                                                 \n",
      " dense_5 (Dense)             (None, 15)                330       \n",
      "                                                                 \n",
      " dense_6 (Dense)             (None, 10)                160       \n",
      "                                                                 \n",
      " dense_7 (Dense)             (None, 4)                 44        \n",
      "                                                                 \n",
      "=================================================================\n",
      "Total params: 534\n",
      "Trainable params: 534\n",
      "Non-trainable params: 0\n",
      "_________________________________________________________________\n",
      "None\n"
     ]
    }
   ],
   "source": [
    "model = Model(inputs=input_layer, outputs=output)\n",
    "model.compile(loss='categorical_crossentropy', optimizer='adam', metrics=['acc'])\n",
    "print(model.summary())"
   ]
  },
  {
   "cell_type": "markdown",
   "id": "1ef61431",
   "metadata": {},
   "source": [
    "### Fit"
   ]
  },
  {
   "cell_type": "code",
   "execution_count": 20,
   "id": "40807674",
   "metadata": {
    "scrolled": true
   },
   "outputs": [
    {
     "name": "stdout",
     "output_type": "stream",
     "text": [
      "Epoch 1/50\n",
      "139/139 [==============================] - 1s 3ms/step - loss: 1.0846 - acc: 0.6652 - val_loss: 0.9228 - val_acc: 0.6498\n",
      "Epoch 2/50\n",
      "139/139 [==============================] - 0s 1ms/step - loss: 0.7037 - acc: 0.7204 - val_loss: 0.7476 - val_acc: 0.6534\n",
      "Epoch 3/50\n",
      "139/139 [==============================] - 0s 2ms/step - loss: 0.5507 - acc: 0.7557 - val_loss: 0.6143 - val_acc: 0.7184\n",
      "Epoch 4/50\n",
      "139/139 [==============================] - 0s 2ms/step - loss: 0.4346 - acc: 0.8235 - val_loss: 0.5043 - val_acc: 0.8123\n",
      "Epoch 5/50\n",
      "139/139 [==============================] - 0s 2ms/step - loss: 0.3540 - acc: 0.8724 - val_loss: 0.4313 - val_acc: 0.8159\n",
      "Epoch 6/50\n",
      "139/139 [==============================] - 0s 2ms/step - loss: 0.3045 - acc: 0.8842 - val_loss: 0.3869 - val_acc: 0.8700\n",
      "Epoch 7/50\n",
      "139/139 [==============================] - 0s 1ms/step - loss: 0.2666 - acc: 0.8896 - val_loss: 0.3459 - val_acc: 0.8592\n",
      "Epoch 8/50\n",
      "139/139 [==============================] - 0s 2ms/step - loss: 0.2356 - acc: 0.9032 - val_loss: 0.3119 - val_acc: 0.8773\n",
      "Epoch 9/50\n",
      "139/139 [==============================] - 0s 2ms/step - loss: 0.2143 - acc: 0.9068 - val_loss: 0.2831 - val_acc: 0.8845\n",
      "Epoch 10/50\n",
      "139/139 [==============================] - 0s 2ms/step - loss: 0.1917 - acc: 0.9240 - val_loss: 0.2580 - val_acc: 0.9097\n",
      "Epoch 11/50\n",
      "139/139 [==============================] - 0s 2ms/step - loss: 0.1735 - acc: 0.9276 - val_loss: 0.2501 - val_acc: 0.8881\n",
      "Epoch 12/50\n",
      "139/139 [==============================] - 0s 2ms/step - loss: 0.1597 - acc: 0.9457 - val_loss: 0.2324 - val_acc: 0.9134\n",
      "Epoch 13/50\n",
      "139/139 [==============================] - 0s 2ms/step - loss: 0.1481 - acc: 0.9475 - val_loss: 0.2191 - val_acc: 0.9134\n",
      "Epoch 14/50\n",
      "139/139 [==============================] - 0s 2ms/step - loss: 0.1376 - acc: 0.9647 - val_loss: 0.2018 - val_acc: 0.9170\n",
      "Epoch 15/50\n",
      "139/139 [==============================] - 0s 2ms/step - loss: 0.1278 - acc: 0.9692 - val_loss: 0.1924 - val_acc: 0.9314\n",
      "Epoch 16/50\n",
      "139/139 [==============================] - 0s 2ms/step - loss: 0.1175 - acc: 0.9747 - val_loss: 0.1980 - val_acc: 0.9206\n",
      "Epoch 17/50\n",
      "139/139 [==============================] - 0s 1ms/step - loss: 0.1113 - acc: 0.9719 - val_loss: 0.1813 - val_acc: 0.9386\n",
      "Epoch 18/50\n",
      "139/139 [==============================] - 0s 2ms/step - loss: 0.1041 - acc: 0.9756 - val_loss: 0.1691 - val_acc: 0.9350\n",
      "Epoch 19/50\n",
      "139/139 [==============================] - 0s 2ms/step - loss: 0.0972 - acc: 0.9810 - val_loss: 0.1745 - val_acc: 0.9206\n",
      "Epoch 20/50\n",
      "139/139 [==============================] - 0s 2ms/step - loss: 0.0898 - acc: 0.9828 - val_loss: 0.1626 - val_acc: 0.9314\n",
      "Epoch 21/50\n",
      "139/139 [==============================] - 0s 2ms/step - loss: 0.0848 - acc: 0.9846 - val_loss: 0.1537 - val_acc: 0.9350\n",
      "Epoch 22/50\n",
      "139/139 [==============================] - 0s 2ms/step - loss: 0.0765 - acc: 0.9864 - val_loss: 0.1583 - val_acc: 0.9422\n",
      "Epoch 23/50\n",
      "139/139 [==============================] - 0s 1ms/step - loss: 0.0703 - acc: 0.9882 - val_loss: 0.1430 - val_acc: 0.9386\n",
      "Epoch 24/50\n",
      "139/139 [==============================] - 0s 2ms/step - loss: 0.0649 - acc: 0.9919 - val_loss: 0.1406 - val_acc: 0.9422\n",
      "Epoch 25/50\n",
      "139/139 [==============================] - 0s 2ms/step - loss: 0.0607 - acc: 0.9891 - val_loss: 0.1264 - val_acc: 0.9531\n",
      "Epoch 26/50\n",
      "139/139 [==============================] - 0s 2ms/step - loss: 0.0560 - acc: 0.9910 - val_loss: 0.1267 - val_acc: 0.9567\n",
      "Epoch 27/50\n",
      "139/139 [==============================] - 0s 2ms/step - loss: 0.0512 - acc: 0.9928 - val_loss: 0.1398 - val_acc: 0.9495\n",
      "Epoch 28/50\n",
      "139/139 [==============================] - 1s 4ms/step - loss: 0.0449 - acc: 0.9955 - val_loss: 0.1235 - val_acc: 0.9567\n",
      "Epoch 29/50\n",
      "139/139 [==============================] - 0s 2ms/step - loss: 0.0425 - acc: 0.9964 - val_loss: 0.1133 - val_acc: 0.9567\n",
      "Epoch 30/50\n",
      "139/139 [==============================] - 0s 2ms/step - loss: 0.0382 - acc: 0.9982 - val_loss: 0.1033 - val_acc: 0.9567\n",
      "Epoch 31/50\n",
      "139/139 [==============================] - 0s 2ms/step - loss: 0.0345 - acc: 0.9973 - val_loss: 0.0981 - val_acc: 0.9567\n",
      "Epoch 32/50\n",
      "139/139 [==============================] - 0s 2ms/step - loss: 0.0315 - acc: 0.9991 - val_loss: 0.1001 - val_acc: 0.9531\n",
      "Epoch 33/50\n",
      "139/139 [==============================] - 0s 2ms/step - loss: 0.0283 - acc: 0.9991 - val_loss: 0.0864 - val_acc: 0.9639\n",
      "Epoch 34/50\n",
      "139/139 [==============================] - 0s 2ms/step - loss: 0.0271 - acc: 0.9982 - val_loss: 0.0849 - val_acc: 0.9675\n",
      "Epoch 35/50\n",
      "139/139 [==============================] - 0s 2ms/step - loss: 0.0242 - acc: 0.9991 - val_loss: 0.0904 - val_acc: 0.9603\n",
      "Epoch 36/50\n",
      "139/139 [==============================] - 0s 2ms/step - loss: 0.0228 - acc: 0.9982 - val_loss: 0.0865 - val_acc: 0.9603\n",
      "Epoch 37/50\n",
      "139/139 [==============================] - 0s 1ms/step - loss: 0.0204 - acc: 1.0000 - val_loss: 0.0732 - val_acc: 0.9747\n",
      "Epoch 38/50\n",
      "139/139 [==============================] - 0s 2ms/step - loss: 0.0189 - acc: 0.9991 - val_loss: 0.0863 - val_acc: 0.9567\n",
      "Epoch 39/50\n",
      "139/139 [==============================] - 0s 2ms/step - loss: 0.0176 - acc: 0.9991 - val_loss: 0.0858 - val_acc: 0.9495\n",
      "Epoch 40/50\n",
      "139/139 [==============================] - 0s 2ms/step - loss: 0.0161 - acc: 1.0000 - val_loss: 0.0748 - val_acc: 0.9639\n",
      "Epoch 41/50\n",
      "139/139 [==============================] - 0s 2ms/step - loss: 0.0146 - acc: 1.0000 - val_loss: 0.0709 - val_acc: 0.9711\n",
      "Epoch 42/50\n",
      "139/139 [==============================] - 0s 2ms/step - loss: 0.0140 - acc: 1.0000 - val_loss: 0.0687 - val_acc: 0.9711\n",
      "Epoch 43/50\n",
      "139/139 [==============================] - 0s 2ms/step - loss: 0.0122 - acc: 1.0000 - val_loss: 0.0678 - val_acc: 0.9639\n",
      "Epoch 44/50\n",
      "139/139 [==============================] - 0s 2ms/step - loss: 0.0120 - acc: 0.9991 - val_loss: 0.0656 - val_acc: 0.9711\n",
      "Epoch 45/50\n",
      "139/139 [==============================] - 0s 2ms/step - loss: 0.0104 - acc: 1.0000 - val_loss: 0.0653 - val_acc: 0.9675\n",
      "Epoch 46/50\n",
      "139/139 [==============================] - 0s 2ms/step - loss: 0.0098 - acc: 1.0000 - val_loss: 0.0580 - val_acc: 0.9747\n",
      "Epoch 47/50\n",
      "139/139 [==============================] - 0s 2ms/step - loss: 0.0094 - acc: 1.0000 - val_loss: 0.0627 - val_acc: 0.9675\n",
      "Epoch 48/50\n",
      "139/139 [==============================] - 0s 2ms/step - loss: 0.0086 - acc: 1.0000 - val_loss: 0.0561 - val_acc: 0.9783\n",
      "Epoch 49/50\n",
      "139/139 [==============================] - 0s 2ms/step - loss: 0.0078 - acc: 1.0000 - val_loss: 0.0513 - val_acc: 0.9747\n",
      "Epoch 50/50\n",
      "139/139 [==============================] - 0s 1ms/step - loss: 0.0072 - acc: 1.0000 - val_loss: 0.0475 - val_acc: 0.9747\n",
      "11/11 [==============================] - 0s 1ms/step - loss: 0.0438 - acc: 0.9798\n"
     ]
    }
   ],
   "source": [
    "history = model.fit(X_train, y_train, batch_size=8, epochs=50, verbose=1, validation_split=0.2)\n",
    "score = model.evaluate(X_test, y_test, verbose=1)"
   ]
  },
  {
   "cell_type": "markdown",
   "id": "91f5b5f4",
   "metadata": {},
   "source": [
    "### Resultados"
   ]
  },
  {
   "cell_type": "code",
   "execution_count": 21,
   "id": "847384b5",
   "metadata": {},
   "outputs": [
    {
     "name": "stdout",
     "output_type": "stream",
     "text": [
      "11/11 [==============================] - 0s 1ms/step\n"
     ]
    }
   ],
   "source": [
    "pred = np.argmax(model.predict(X_test), axis = 1)\n",
    "y_test2= np.argmax(y_test, axis = 1)"
   ]
  },
  {
   "cell_type": "code",
   "execution_count": 22,
   "id": "7669f13c",
   "metadata": {},
   "outputs": [
    {
     "name": "stdout",
     "output_type": "stream",
     "text": [
      "              precision    recall  f1-score   support\n",
      "\n",
      "           0       0.99      0.95      0.97        83\n",
      "           1       0.69      1.00      0.81        11\n",
      "           2       1.00      1.00      1.00       235\n",
      "           3       1.00      0.82      0.90        17\n",
      "\n",
      "    accuracy                           0.98       346\n",
      "   macro avg       0.92      0.94      0.92       346\n",
      "weighted avg       0.98      0.98      0.98       346\n",
      "\n"
     ]
    }
   ],
   "source": [
    "print( classification_report(y_test2, pred) )\n",
    "classrep = classification_report(y_test2, pred)"
   ]
  },
  {
   "cell_type": "code",
   "execution_count": 25,
   "id": "d1c6f824",
   "metadata": {},
   "outputs": [
    {
     "data": {
      "image/png": "[encoded data removed]",
      "text/plain": [
       "<Figure size 640x480 with 1 Axes>"
      ]
     },
     "metadata": {},
     "output_type": "display_data"
    },
    {
     "data": {
      "image/png": "[encoded data removed]",
      "text/plain": [
       "<Figure size 640x480 with 1 Axes>"
      ]
     },
     "metadata": {},
     "output_type": "display_data"
    }
   ],
   "source": [
    "plot_metric(history, 'loss')\n",
    "plot_metric(history, 'acc')"
   ]
  },
  {
   "cell_type": "markdown",
   "id": "1c40524a",
   "metadata": {},
   "source": [
    "### 2.1) Clasification Problem with Weight Initializer and Early Stop (Callback)"
   ]
  },
  {
   "cell_type": "markdown",
   "id": "940095bc",
   "metadata": {},
   "source": [
    "### Arquitectura"
   ]
  },
  {
   "cell_type": "code",
   "execution_count": 101,
   "id": "49a86e22",
   "metadata": {},
   "outputs": [],
   "source": [
    "input_layerB = Input(shape=(X.shape[1],)) \n",
    "dense_layer_1B = Dense(15, activation='relu', kernel_initializer = 'he_normal')(input_layerB)\n",
    "dense_layer_2B = Dense(10, activation='relu', kernel_initializer = 'he_normal')(dense_layer_1B)\n",
    "outputB = Dense(y.shape[1], activation='softmax')(dense_layer_2B)"
   ]
  },
  {
   "cell_type": "markdown",
   "id": "80975a16",
   "metadata": {},
   "source": [
    "### Compile"
   ]
  },
  {
   "cell_type": "code",
   "execution_count": 102,
   "id": "36ae9acb",
   "metadata": {},
   "outputs": [
    {
     "name": "stdout",
     "output_type": "stream",
     "text": [
      "Model: \"model_1\"\n",
      "_________________________________________________________________\n",
      " Layer (type)                Output Shape              Param #   \n",
      "=================================================================\n",
      " input_3 (InputLayer)        [(None, 21)]              0         \n",
      "                                                                 \n",
      " dense_8 (Dense)             (None, 15)                330       \n",
      "                                                                 \n",
      " dense_9 (Dense)             (None, 10)                160       \n",
      "                                                                 \n",
      " dense_10 (Dense)            (None, 4)                 44        \n",
      "                                                                 \n",
      "=================================================================\n",
      "Total params: 534\n",
      "Trainable params: 534\n",
      "Non-trainable params: 0\n",
      "_________________________________________________________________\n",
      "None\n"
     ]
    }
   ],
   "source": [
    "modelB = Model(inputs=input_layerB, outputs=outputB)\n",
    "modelB.compile(loss='categorical_crossentropy', optimizer='adam', metrics=['acc'])\n",
    "print(modelB.summary())"
   ]
  },
  {
   "cell_type": "markdown",
   "id": "89d7de79",
   "metadata": {},
   "source": [
    "### Fit"
   ]
  },
  {
   "cell_type": "code",
   "execution_count": 103,
   "id": "80995ca7",
   "metadata": {},
   "outputs": [
    {
     "name": "stdout",
     "output_type": "stream",
     "text": [
      "Epoch 1/50\n",
      "553/553 [==============================] - 2s 2ms/step - loss: 0.9286 - acc: 0.6398 - val_loss: 0.7637 - val_acc: 0.6643\n",
      "Epoch 2/50\n",
      "553/553 [==============================] - 1s 1ms/step - loss: 0.5324 - acc: 0.7674 - val_loss: 0.5646 - val_acc: 0.7617\n",
      "Epoch 3/50\n",
      "553/553 [==============================] - 1s 1ms/step - loss: 0.3637 - acc: 0.8552 - val_loss: 0.3927 - val_acc: 0.8375\n",
      "Epoch 4/50\n",
      "553/553 [==============================] - 1s 2ms/step - loss: 0.2611 - acc: 0.9050 - val_loss: 0.3109 - val_acc: 0.8628\n",
      "Epoch 5/50\n",
      "553/553 [==============================] - 1s 1ms/step - loss: 0.2164 - acc: 0.9149 - val_loss: 0.2779 - val_acc: 0.8773\n",
      "Epoch 6/50\n",
      "553/553 [==============================] - 1s 1ms/step - loss: 0.1861 - acc: 0.9258 - val_loss: 0.2362 - val_acc: 0.9097\n",
      "Epoch 7/50\n",
      "553/553 [==============================] - 1s 1ms/step - loss: 0.1636 - acc: 0.9367 - val_loss: 0.2144 - val_acc: 0.9170\n",
      "Epoch 8/50\n",
      "553/553 [==============================] - 1s 1ms/step - loss: 0.1477 - acc: 0.9421 - val_loss: 0.2004 - val_acc: 0.9206\n",
      "Epoch 9/50\n",
      "553/553 [==============================] - 1s 2ms/step - loss: 0.1336 - acc: 0.9575 - val_loss: 0.1950 - val_acc: 0.9097\n",
      "Epoch 10/50\n",
      "553/553 [==============================] - 1s 1ms/step - loss: 0.1200 - acc: 0.9593 - val_loss: 0.1933 - val_acc: 0.9134\n",
      "Epoch 11/50\n",
      "553/553 [==============================] - 1s 1ms/step - loss: 0.1084 - acc: 0.9656 - val_loss: 0.1632 - val_acc: 0.9422\n",
      "Epoch 12/50\n",
      "553/553 [==============================] - 1s 1ms/step - loss: 0.0973 - acc: 0.9747 - val_loss: 0.1478 - val_acc: 0.9350\n",
      "Epoch 13/50\n",
      "553/553 [==============================] - 1s 1ms/step - loss: 0.0833 - acc: 0.9774 - val_loss: 0.1353 - val_acc: 0.9531\n",
      "Epoch 14/50\n",
      "553/553 [==============================] - 1s 1ms/step - loss: 0.0730 - acc: 0.9855 - val_loss: 0.1329 - val_acc: 0.9531\n",
      "Epoch 15/50\n",
      "553/553 [==============================] - 1s 1ms/step - loss: 0.0648 - acc: 0.9855 - val_loss: 0.1121 - val_acc: 0.9531\n",
      "Epoch 16/50\n",
      "553/553 [==============================] - 1s 1ms/step - loss: 0.0544 - acc: 0.9910 - val_loss: 0.1368 - val_acc: 0.9386\n",
      "Epoch 17/50\n",
      "553/553 [==============================] - 1s 1ms/step - loss: 0.0495 - acc: 0.9891 - val_loss: 0.0928 - val_acc: 0.9639\n",
      "Epoch 18/50\n",
      "553/553 [==============================] - 1s 1ms/step - loss: 0.0436 - acc: 0.9910 - val_loss: 0.1047 - val_acc: 0.9495\n",
      "Epoch 19/50\n",
      "553/553 [==============================] - 1s 1ms/step - loss: 0.0357 - acc: 0.9973 - val_loss: 0.0834 - val_acc: 0.9639\n",
      "Epoch 20/50\n",
      "553/553 [==============================] - 1s 1ms/step - loss: 0.0312 - acc: 0.9991 - val_loss: 0.0697 - val_acc: 0.9819\n",
      "Epoch 21/50\n",
      "553/553 [==============================] - 1s 1ms/step - loss: 0.0291 - acc: 0.9955 - val_loss: 0.0581 - val_acc: 0.9819\n",
      "Epoch 22/50\n",
      "553/553 [==============================] - 1s 2ms/step - loss: 0.0238 - acc: 0.9991 - val_loss: 0.0795 - val_acc: 0.9711\n",
      "Epoch 23/50\n",
      "553/553 [==============================] - 1s 1ms/step - loss: 0.0205 - acc: 0.9982 - val_loss: 0.0580 - val_acc: 0.9747\n",
      "Epoch 24/50\n",
      "553/553 [==============================] - 1s 1ms/step - loss: 0.0174 - acc: 0.9991 - val_loss: 0.0629 - val_acc: 0.9747\n",
      "Epoch 25/50\n",
      "553/553 [==============================] - 1s 1ms/step - loss: 0.0150 - acc: 1.0000 - val_loss: 0.0592 - val_acc: 0.9783\n",
      "Epoch 26/50\n",
      "553/553 [==============================] - 1s 1ms/step - loss: 0.0139 - acc: 1.0000 - val_loss: 0.0523 - val_acc: 0.9747\n",
      "Epoch 27/50\n",
      "553/553 [==============================] - 1s 1ms/step - loss: 0.0110 - acc: 0.9991 - val_loss: 0.0627 - val_acc: 0.9783\n",
      "Epoch 28/50\n",
      "553/553 [==============================] - 1s 1ms/step - loss: 0.0114 - acc: 0.9991 - val_loss: 0.0515 - val_acc: 0.9675\n",
      "Epoch 29/50\n",
      "553/553 [==============================] - 1s 2ms/step - loss: 0.0084 - acc: 1.0000 - val_loss: 0.0404 - val_acc: 0.9819\n",
      "Epoch 30/50\n",
      "553/553 [==============================] - 1s 1ms/step - loss: 0.0078 - acc: 1.0000 - val_loss: 0.0385 - val_acc: 0.9783\n",
      "Epoch 31/50\n",
      "553/553 [==============================] - 1s 1ms/step - loss: 0.0056 - acc: 1.0000 - val_loss: 0.0321 - val_acc: 0.9819\n",
      "Epoch 32/50\n",
      "553/553 [==============================] - 1s 2ms/step - loss: 0.0077 - acc: 0.9982 - val_loss: 0.0343 - val_acc: 0.9892\n",
      "Epoch 33/50\n",
      "553/553 [==============================] - 1s 1ms/step - loss: 0.0048 - acc: 1.0000 - val_loss: 0.0332 - val_acc: 0.9892\n",
      "Epoch 34/50\n",
      "553/553 [==============================] - 1s 1ms/step - loss: 0.0042 - acc: 1.0000 - val_loss: 0.0270 - val_acc: 0.9928\n",
      "Epoch 35/50\n",
      "553/553 [==============================] - 1s 1ms/step - loss: 0.0035 - acc: 1.0000 - val_loss: 0.0441 - val_acc: 0.9819\n",
      "Epoch 36/50\n",
      "553/553 [==============================] - 1s 1ms/step - loss: 0.0031 - acc: 1.0000 - val_loss: 0.0282 - val_acc: 0.9928\n",
      "Epoch 37/50\n",
      "553/553 [==============================] - 1s 1ms/step - loss: 0.0032 - acc: 1.0000 - val_loss: 0.0266 - val_acc: 0.9856\n",
      "Epoch 38/50\n",
      "553/553 [==============================] - 1s 1ms/step - loss: 0.0027 - acc: 1.0000 - val_loss: 0.0284 - val_acc: 0.9892\n",
      "Epoch 39/50\n",
      "553/553 [==============================] - 1s 1ms/step - loss: 0.0018 - acc: 1.0000 - val_loss: 0.0259 - val_acc: 0.9928\n",
      "Epoch 40/50\n",
      "553/553 [==============================] - 1s 1ms/step - loss: 0.0017 - acc: 1.0000 - val_loss: 0.0333 - val_acc: 0.9819\n",
      "Epoch 41/50\n",
      "553/553 [==============================] - 1s 1ms/step - loss: 0.0020 - acc: 1.0000 - val_loss: 0.0310 - val_acc: 0.9856\n",
      "Epoch 42/50\n",
      "553/553 [==============================] - 1s 1ms/step - loss: 0.0013 - acc: 1.0000 - val_loss: 0.0343 - val_acc: 0.9856\n",
      "Epoch 43/50\n",
      "553/553 [==============================] - 1s 1ms/step - loss: 9.9054e-04 - acc: 1.0000 - val_loss: 0.0328 - val_acc: 0.9856\n",
      "Epoch 44/50\n",
      "553/553 [==============================] - 1s 1ms/step - loss: 0.0017 - acc: 1.0000 - val_loss: 0.0353 - val_acc: 0.9856\n",
      "Epoch 45/50\n",
      "553/553 [==============================] - 1s 1ms/step - loss: 0.0011 - acc: 1.0000 - val_loss: 0.0211 - val_acc: 0.9892\n",
      "Epoch 46/50\n",
      "553/553 [==============================] - 1s 1ms/step - loss: 5.6181e-04 - acc: 1.0000 - val_loss: 0.0287 - val_acc: 0.9892\n",
      "Epoch 47/50\n",
      "553/553 [==============================] - 1s 2ms/step - loss: 4.9746e-04 - acc: 1.0000 - val_loss: 0.0233 - val_acc: 0.9928\n",
      "Epoch 48/50\n",
      "553/553 [==============================] - 1s 1ms/step - loss: 5.8389e-04 - acc: 1.0000 - val_loss: 0.0209 - val_acc: 0.9892\n",
      "Epoch 49/50\n",
      "553/553 [==============================] - 1s 1ms/step - loss: 0.0013 - acc: 1.0000 - val_loss: 0.0235 - val_acc: 0.9892\n",
      "Epoch 50/50\n",
      "553/553 [==============================] - 1s 1ms/step - loss: 5.5618e-04 - acc: 1.0000 - val_loss: 0.0293 - val_acc: 0.9892\n"
     ]
    }
   ],
   "source": [
    "early_stop = tf.keras.callbacks.EarlyStopping(patience = 10, restore_best_weights = True)\n",
    "historyB = modelB.fit(X_train, y_train, batch_size=2, epochs=50, verbose=1, validation_split=0.2,callbacks = [early_stop])\n"
   ]
  },
  {
   "cell_type": "markdown",
   "id": "6a9e25c5",
   "metadata": {},
   "source": [
    "### Results"
   ]
  },
  {
   "cell_type": "code",
   "execution_count": 104,
   "id": "2049e214",
   "metadata": {
    "scrolled": false
   },
   "outputs": [
    {
     "name": "stdout",
     "output_type": "stream",
     "text": [
      "11/11 [==============================] - 0s 1ms/step\n",
      "              precision    recall  f1-score   support\n",
      "\n",
      "           0       0.99      0.99      0.99        83\n",
      "           1       1.00      1.00      1.00        11\n",
      "           2       1.00      1.00      1.00       235\n",
      "           3       1.00      0.94      0.97        17\n",
      "\n",
      "    accuracy                           0.99       346\n",
      "   macro avg       1.00      0.98      0.99       346\n",
      "weighted avg       0.99      0.99      0.99       346\n",
      "\n"
     ]
    },
    {
     "data": {
      "image/png": "[encoded data removed]",
      "text/plain": [
       "<Figure size 640x480 with 1 Axes>"
      ]
     },
     "metadata": {},
     "output_type": "display_data"
    },
    {
     "data": {
      "image/png": "[encoded data removed]",
      "text/plain": [
       "<Figure size 640x480 with 1 Axes>"
      ]
     },
     "metadata": {},
     "output_type": "display_data"
    }
   ],
   "source": [
    "predB = np.argmax(modelB.predict(X_test), axis = 1)\n",
    "y_test2B= np.argmax(y_test, axis = 1)\n",
    "\n",
    "\n",
    "print( classification_report(y_test2B, predB) )\n",
    "classrep = classification_report(y_test2B, predB)\n",
    "\n",
    "\n",
    "plot_metric(historyB, 'loss')\n",
    "plot_metric(historyB, 'acc')"
   ]
  },
  {
   "cell_type": "markdown",
   "id": "27deecec",
   "metadata": {},
   "source": [
    "## 2.2 Sequential Clasification Problem with Early Stop (Callback)"
   ]
  },
  {
   "cell_type": "code",
   "execution_count": 105,
   "id": "e666747b",
   "metadata": {},
   "outputs": [],
   "source": [
    "tf.keras.backend.clear_session()\n",
    "model2 = keras.Sequential()"
   ]
  },
  {
   "cell_type": "markdown",
   "id": "ac0ee703",
   "metadata": {},
   "source": [
    "### Arquitectura Sequential"
   ]
  },
  {
   "cell_type": "code",
   "execution_count": 106,
   "id": "48d06421",
   "metadata": {},
   "outputs": [],
   "source": [
    "model2.add( keras.layers.Input(shape = X.shape[1:]))\n",
    "model2.add( keras.layers.Dense(units = 700, activation = 'elu', kernel_initializer = 'he_normal'))\n",
    "model2.add( keras.layers.Dense(units = 400, activation = 'elu', kernel_initializer = 'he_normal'))\n",
    "model2.add( keras.layers.Dense(units = 200, activation = 'elu', kernel_initializer = 'he_normal'))\n",
    "model2.add( keras.layers.Dense(units = 100, activation = 'elu', kernel_initializer = 'he_normal'))\n",
    "model2.add( keras.layers.Dense(units = y.shape[1], activation = 'softmax'))"
   ]
  },
  {
   "cell_type": "markdown",
   "id": "eaa87a5f",
   "metadata": {},
   "source": [
    "### Compile"
   ]
  },
  {
   "cell_type": "code",
   "execution_count": 107,
   "id": "4902abbc",
   "metadata": {},
   "outputs": [
    {
     "name": "stdout",
     "output_type": "stream",
     "text": [
      "Model: \"sequential\"\n",
      "_________________________________________________________________\n",
      " Layer (type)                Output Shape              Param #   \n",
      "=================================================================\n",
      " dense (Dense)               (None, 700)               15400     \n",
      "                                                                 \n",
      " dense_1 (Dense)             (None, 400)               280400    \n",
      "                                                                 \n",
      " dense_2 (Dense)             (None, 200)               80200     \n",
      "                                                                 \n",
      " dense_3 (Dense)             (None, 100)               20100     \n",
      "                                                                 \n",
      " dense_4 (Dense)             (None, 4)                 404       \n",
      "                                                                 \n",
      "=================================================================\n",
      "Total params: 396,504\n",
      "Trainable params: 396,504\n",
      "Non-trainable params: 0\n",
      "_________________________________________________________________\n"
     ]
    }
   ],
   "source": [
    "model2.compile(loss='categorical_crossentropy', optimizer='adam', metrics=['acc'])\n",
    "model2.summary()"
   ]
  },
  {
   "cell_type": "markdown",
   "id": "10b6d80b",
   "metadata": {},
   "source": [
    "### Fit"
   ]
  },
  {
   "cell_type": "code",
   "execution_count": 108,
   "id": "a8418210",
   "metadata": {},
   "outputs": [
    {
     "name": "stdout",
     "output_type": "stream",
     "text": [
      "Epoch 1/100\n",
      "553/553 [==============================] - 3s 5ms/step - loss: 0.4964 - acc: 0.8389 - val_loss: 0.3698 - val_acc: 0.8592\n",
      "Epoch 2/100\n",
      "553/553 [==============================] - 2s 4ms/step - loss: 0.2706 - acc: 0.9113 - val_loss: 0.2549 - val_acc: 0.8881\n",
      "Epoch 3/100\n",
      "553/553 [==============================] - 2s 4ms/step - loss: 0.1750 - acc: 0.9330 - val_loss: 0.9413 - val_acc: 0.8159\n",
      "Epoch 4/100\n",
      "553/553 [==============================] - 2s 4ms/step - loss: 0.1886 - acc: 0.9430 - val_loss: 0.3344 - val_acc: 0.8592\n",
      "Epoch 5/100\n",
      "553/553 [==============================] - 2s 4ms/step - loss: 0.1434 - acc: 0.9493 - val_loss: 0.1763 - val_acc: 0.9350\n",
      "Epoch 6/100\n",
      "553/553 [==============================] - 2s 4ms/step - loss: 0.1208 - acc: 0.9593 - val_loss: 0.1783 - val_acc: 0.9350\n",
      "Epoch 7/100\n",
      "553/553 [==============================] - 2s 4ms/step - loss: 0.0942 - acc: 0.9710 - val_loss: 0.3356 - val_acc: 0.8989\n",
      "Epoch 8/100\n",
      "553/553 [==============================] - 3s 5ms/step - loss: 0.1244 - acc: 0.9647 - val_loss: 0.1521 - val_acc: 0.9386\n",
      "Epoch 9/100\n",
      "553/553 [==============================] - 2s 4ms/step - loss: 0.0711 - acc: 0.9738 - val_loss: 0.1134 - val_acc: 0.9711\n",
      "Epoch 10/100\n",
      "553/553 [==============================] - 2s 4ms/step - loss: 0.0754 - acc: 0.9719 - val_loss: 0.1892 - val_acc: 0.9458\n",
      "Epoch 11/100\n",
      "553/553 [==============================] - 3s 5ms/step - loss: 0.0333 - acc: 0.9882 - val_loss: 0.0685 - val_acc: 0.9711\n",
      "Epoch 12/100\n",
      "553/553 [==============================] - 2s 4ms/step - loss: 0.0244 - acc: 0.9946 - val_loss: 0.0203 - val_acc: 0.9928\n",
      "Epoch 13/100\n",
      "553/553 [==============================] - 2s 4ms/step - loss: 0.0011 - acc: 1.0000 - val_loss: 0.0104 - val_acc: 0.9928\n",
      "Epoch 14/100\n",
      "553/553 [==============================] - 2s 4ms/step - loss: 1.7560e-04 - acc: 1.0000 - val_loss: 0.0095 - val_acc: 0.9964\n",
      "Epoch 15/100\n",
      "553/553 [==============================] - 2s 4ms/step - loss: 1.0974e-04 - acc: 1.0000 - val_loss: 0.0090 - val_acc: 0.9928\n",
      "Epoch 16/100\n",
      "553/553 [==============================] - 2s 4ms/step - loss: 7.1307e-05 - acc: 1.0000 - val_loss: 0.0092 - val_acc: 0.9928\n",
      "Epoch 17/100\n",
      "553/553 [==============================] - 2s 4ms/step - loss: 4.8737e-05 - acc: 1.0000 - val_loss: 0.0086 - val_acc: 0.9964\n",
      "Epoch 18/100\n",
      "553/553 [==============================] - 2s 4ms/step - loss: 3.3509e-05 - acc: 1.0000 - val_loss: 0.0089 - val_acc: 0.9964\n",
      "Epoch 19/100\n",
      "553/553 [==============================] - 2s 4ms/step - loss: 2.3162e-05 - acc: 1.0000 - val_loss: 0.0091 - val_acc: 0.9964\n",
      "Epoch 20/100\n",
      "553/553 [==============================] - 3s 5ms/step - loss: 1.6187e-05 - acc: 1.0000 - val_loss: 0.0097 - val_acc: 0.9964\n",
      "Epoch 21/100\n",
      "553/553 [==============================] - 2s 4ms/step - loss: 1.1653e-05 - acc: 1.0000 - val_loss: 0.0089 - val_acc: 0.9964\n",
      "Epoch 22/100\n",
      "553/553 [==============================] - 2s 4ms/step - loss: 8.2165e-06 - acc: 1.0000 - val_loss: 0.0095 - val_acc: 0.9964\n",
      "Epoch 23/100\n",
      "553/553 [==============================] - 2s 4ms/step - loss: 5.9488e-06 - acc: 1.0000 - val_loss: 0.0094 - val_acc: 0.9964\n",
      "Epoch 24/100\n",
      "553/553 [==============================] - 2s 4ms/step - loss: 4.2540e-06 - acc: 1.0000 - val_loss: 0.0098 - val_acc: 0.9964\n",
      "Epoch 25/100\n",
      "553/553 [==============================] - 2s 4ms/step - loss: 3.0521e-06 - acc: 1.0000 - val_loss: 0.0097 - val_acc: 0.9964\n",
      "Epoch 26/100\n",
      "553/553 [==============================] - 2s 4ms/step - loss: 2.1728e-06 - acc: 1.0000 - val_loss: 0.0097 - val_acc: 0.9964\n",
      "Epoch 27/100\n",
      "553/553 [==============================] - 2s 4ms/step - loss: 1.5445e-06 - acc: 1.0000 - val_loss: 0.0101 - val_acc: 0.9964\n"
     ]
    }
   ],
   "source": [
    "early_stop = tf.keras.callbacks.EarlyStopping(patience = 10, restore_best_weights = True)\n",
    "history2 = model2.fit(X_train, y_train, batch_size=2, epochs=100, verbose=1, validation_split=0.2,callbacks = [early_stop])"
   ]
  },
  {
   "cell_type": "markdown",
   "id": "0c39c788",
   "metadata": {},
   "source": [
    "### Results"
   ]
  },
  {
   "cell_type": "code",
   "execution_count": 109,
   "id": "c1c93791",
   "metadata": {},
   "outputs": [
    {
     "name": "stdout",
     "output_type": "stream",
     "text": [
      "11/11 [==============================] - 0s 2ms/step\n",
      "              precision    recall  f1-score   support\n",
      "\n",
      "           0       0.99      0.99      0.99        83\n",
      "           1       0.92      1.00      0.96        11\n",
      "           2       1.00      1.00      1.00       235\n",
      "           3       1.00      0.94      0.97        17\n",
      "\n",
      "    accuracy                           0.99       346\n",
      "   macro avg       0.98      0.98      0.98       346\n",
      "weighted avg       0.99      0.99      0.99       346\n",
      "\n"
     ]
    }
   ],
   "source": [
    "predC = np.argmax(model2.predict(X_test), axis = 1)\n",
    "y_test2C= np.argmax(y_test, axis = 1)\n",
    "\n",
    "print( classification_report(y_test2C, predC) )\n",
    "classrep = classification_report(y_test2C, predC)\n"
   ]
  },
  {
   "cell_type": "code",
   "execution_count": 112,
   "id": "b4eed20a",
   "metadata": {},
   "outputs": [
    {
     "name": "stdout",
     "output_type": "stream",
     "text": [
      "[[ 82   1   0   0]\n",
      " [  0  11   0   0]\n",
      " [  0   0 235   0]\n",
      " [  1   0   0  16]]\n"
     ]
    }
   ],
   "source": [
    "print( confusion_matrix(y_test2C, predC))\n",
    "confMat = confusion_matrix(y_test2C, predC)\n",
    "\n",
    "name = 'Sequential_' + datetime.now().strftime('%Y%m%d_%H%M')\n",
    "\n",
    "print_model_summary(name, model2, classrep, confMat)\n"
   ]
  },
  {
   "cell_type": "markdown",
   "id": "0062aea4",
   "metadata": {},
   "source": [
    "## 2.3 Arquitectura Automatica Sequential y Tensorboard"
   ]
  },
  {
   "cell_type": "code",
   "execution_count": 38,
   "id": "9d41f460",
   "metadata": {
    "scrolled": true
   },
   "outputs": [
    {
     "name": "stdout",
     "output_type": "stream",
     "text": [
      "Model: \"sequential\"\n",
      "_________________________________________________________________\n",
      " Layer (type)                Output Shape              Param #   \n",
      "=================================================================\n",
      " dense (Dense)               (None, 10)                220       \n",
      "                                                                 \n",
      " dense_1 (Dense)             (None, 10)                110       \n",
      "                                                                 \n",
      " dense_2 (Dense)             (None, 10)                110       \n",
      "                                                                 \n",
      " dense_3 (Dense)             (None, 4)                 44        \n",
      "                                                                 \n",
      "=================================================================\n",
      "Total params: 484\n",
      "Trainable params: 484\n",
      "Non-trainable params: 0\n",
      "_________________________________________________________________\n",
      "None\n"
     ]
    }
   ],
   "source": [
    "tf.keras.backend.clear_session()\n",
    "\n",
    "model3 = build_model(n_hidden = 3, n_output = y.shape[1], n_neurons=10,  input_shape=X.shape[1:])\n",
    "\n",
    "print(model3.summary())"
   ]
  },
  {
   "cell_type": "markdown",
   "id": "11797a07",
   "metadata": {},
   "source": [
    "### Compile y Callbacks"
   ]
  },
  {
   "cell_type": "code",
   "execution_count": 40,
   "id": "403cb37d",
   "metadata": {},
   "outputs": [],
   "source": [
    "model3.compile(loss='categorical_crossentropy', optimizer='adam', metrics=['acc'])\n",
    "early_stop = tf.keras.callbacks.EarlyStopping(patience = 10, restore_best_weights = True)"
   ]
  },
  {
   "cell_type": "markdown",
   "id": "700ec0c7",
   "metadata": {},
   "source": [
    "### Crear carpeta para guardar data de Tensorboard de cada experimento, hay carpeta nueva dentro de \"logs\" para cada experimento "
   ]
  },
  {
   "cell_type": "code",
   "execution_count": 49,
   "id": "9ad72047",
   "metadata": {},
   "outputs": [
    {
     "name": "stdout",
     "output_type": "stream",
     "text": [
      "created folder :  logs/run_20230830-1627\n"
     ]
    }
   ],
   "source": [
    "folder2save = 'logs/run_' + datetime.now().strftime(\"%Y%m%d-%H%M\")   \n",
    "if not os.path.isdir(folder2save):\n",
    "    os.makedirs(folder2save)\n",
    "    print(\"created folder : \", folder2save)\n",
    "tensorboad_cb = keras.callbacks.TensorBoard(log_dir = folder2save, histogram_freq=1) "
   ]
  },
  {
   "cell_type": "markdown",
   "id": "f7c5db83",
   "metadata": {},
   "source": [
    "### Fit"
   ]
  },
  {
   "cell_type": "code",
   "execution_count": 50,
   "id": "836ed624",
   "metadata": {},
   "outputs": [
    {
     "name": "stdout",
     "output_type": "stream",
     "text": [
      "Epoch 1/100\n",
      "553/553 [==============================] - 1s 2ms/step - loss: 0.0138 - acc: 0.9955 - val_loss: 0.0631 - val_acc: 0.9747\n",
      "Epoch 2/100\n",
      "553/553 [==============================] - 1s 2ms/step - loss: 0.0166 - acc: 0.9937 - val_loss: 0.0436 - val_acc: 0.9819\n",
      "Epoch 3/100\n",
      "553/553 [==============================] - 1s 2ms/step - loss: 0.0038 - acc: 0.9991 - val_loss: 0.0480 - val_acc: 0.9819\n",
      "Epoch 4/100\n",
      "553/553 [==============================] - 1s 2ms/step - loss: 0.0048 - acc: 0.9991 - val_loss: 0.0438 - val_acc: 0.9819\n",
      "Epoch 5/100\n",
      "553/553 [==============================] - 1s 2ms/step - loss: 0.0050 - acc: 0.9982 - val_loss: 0.0494 - val_acc: 0.9747\n",
      "Epoch 6/100\n",
      "553/553 [==============================] - 1s 2ms/step - loss: 0.0028 - acc: 1.0000 - val_loss: 0.0430 - val_acc: 0.9819\n",
      "Epoch 7/100\n",
      "553/553 [==============================] - 1s 2ms/step - loss: 0.0029 - acc: 1.0000 - val_loss: 0.0565 - val_acc: 0.9783\n",
      "Epoch 8/100\n",
      "553/553 [==============================] - 1s 2ms/step - loss: 0.0019 - acc: 1.0000 - val_loss: 0.0677 - val_acc: 0.9747\n",
      "Epoch 9/100\n",
      "553/553 [==============================] - 1s 2ms/step - loss: 0.0107 - acc: 0.9964 - val_loss: 0.0582 - val_acc: 0.9747\n",
      "Epoch 10/100\n",
      "553/553 [==============================] - 1s 2ms/step - loss: 0.0021 - acc: 1.0000 - val_loss: 0.0751 - val_acc: 0.9603\n",
      "Epoch 11/100\n",
      "553/553 [==============================] - 1s 2ms/step - loss: 0.0015 - acc: 1.0000 - val_loss: 0.0486 - val_acc: 0.9783\n",
      "Epoch 12/100\n",
      "553/553 [==============================] - 1s 2ms/step - loss: 0.0011 - acc: 1.0000 - val_loss: 0.0489 - val_acc: 0.9783\n",
      "Epoch 13/100\n",
      "553/553 [==============================] - 1s 2ms/step - loss: 8.8299e-04 - acc: 1.0000 - val_loss: 0.0485 - val_acc: 0.9783\n",
      "Epoch 14/100\n",
      "553/553 [==============================] - 1s 2ms/step - loss: 9.2801e-04 - acc: 1.0000 - val_loss: 0.0498 - val_acc: 0.9819\n",
      "Epoch 15/100\n",
      "553/553 [==============================] - 1s 2ms/step - loss: 0.0030 - acc: 0.9991 - val_loss: 0.0627 - val_acc: 0.9783\n",
      "Epoch 16/100\n",
      "553/553 [==============================] - 1s 2ms/step - loss: 0.0040 - acc: 0.9991 - val_loss: 0.3463 - val_acc: 0.9314\n"
     ]
    }
   ],
   "source": [
    "history3 = model3.fit(X_train, y_train, batch_size=2, epochs=100, verbose=1, validation_split=0.2,callbacks = [early_stop,tensorboad_cb])\n"
   ]
  },
  {
   "cell_type": "markdown",
   "id": "9b9d3f18",
   "metadata": {},
   "source": [
    "### Results"
   ]
  },
  {
   "cell_type": "code",
   "execution_count": 51,
   "id": "6aae5b15",
   "metadata": {},
   "outputs": [
    {
     "name": "stdout",
     "output_type": "stream",
     "text": [
      "11/11 [==============================] - 0s 1ms/step\n"
     ]
    }
   ],
   "source": [
    "pred4 = np.argmax(model3.predict(X_test), axis = 1)\n",
    "y_test4= np.argmax(y_test, axis = 1)\n"
   ]
  },
  {
   "cell_type": "code",
   "execution_count": 52,
   "id": "ff63c87a",
   "metadata": {},
   "outputs": [
    {
     "name": "stdout",
     "output_type": "stream",
     "text": [
      "              precision    recall  f1-score   support\n",
      "\n",
      "           0       0.98      0.96      0.97        83\n",
      "           1       0.73      1.00      0.85        11\n",
      "           2       1.00      1.00      1.00       235\n",
      "           3       1.00      0.76      0.87        17\n",
      "\n",
      "    accuracy                           0.98       346\n",
      "   macro avg       0.93      0.93      0.92       346\n",
      "weighted avg       0.98      0.98      0.98       346\n",
      "\n"
     ]
    }
   ],
   "source": [
    "print( classification_report(y_test4, pred4) )\n",
    "classrep = classification_report(y_test4, pred4)"
   ]
  },
  {
   "cell_type": "code",
   "execution_count": 53,
   "id": "3db8b284",
   "metadata": {},
   "outputs": [
    {
     "name": "stdout",
     "output_type": "stream",
     "text": [
      "[[ 80   2   1   0]\n",
      " [  0  11   0   0]\n",
      " [  0   0 235   0]\n",
      " [  2   2   0  13]]\n"
     ]
    }
   ],
   "source": [
    "print( confusion_matrix(y_test4, pred4))\n",
    "confMat = confusion_matrix(y_test4, pred4)"
   ]
  },
  {
   "cell_type": "markdown",
   "id": "e9ac51de",
   "metadata": {},
   "source": [
    "### Load the TensorBoard notebook extension"
   ]
  },
  {
   "cell_type": "code",
   "execution_count": 55,
   "id": "3597ab44",
   "metadata": {},
   "outputs": [],
   "source": [
    "%load_ext tensorboard"
   ]
  },
  {
   "cell_type": "code",
   "execution_count": 56,
   "id": "ebb1107a",
   "metadata": {
    "scrolled": false
   },
   "outputs": [
    {
     "data": {
      "text/html": [
       "\n",
       "      <iframe id=\"tensorboard-frame-860c680eb609813b\" width=\"100%\" height=\"800\" frameborder=\"0\">\n",
       "      </iframe>\n",
       "      <script>\n",
       "        (function() {\n",
       "          const frame = document.getElementById(\"tensorboard-frame-860c680eb609813b\");\n",
       "          const url = new URL(\"/\", window.location);\n",
       "          const port = 6006;\n",
       "          if (port) {\n",
       "            url.port = port;\n",
       "          }\n",
       "          frame.src = url;\n",
       "        })();\n",
       "      </script>\n",
       "    "
      ],
      "text/plain": [
       "<IPython.core.display.HTML object>"
      ]
     },
     "metadata": {},
     "output_type": "display_data"
    }
   ],
   "source": [
    "%tensorboard --logdir logs"
   ]
  },
  {
   "cell_type": "markdown",
   "id": "227af472",
   "metadata": {},
   "source": [
    "## 2.4 MODELO FUNCIONAL"
   ]
  },
  {
   "cell_type": "code",
   "execution_count": 65,
   "id": "7f0d8445",
   "metadata": {
    "scrolled": true
   },
   "outputs": [
    {
     "name": "stdout",
     "output_type": "stream",
     "text": [
      "Model: \"model\"\n",
      "__________________________________________________________________________________________________\n",
      " Layer (type)                   Output Shape         Param #     Connected to                     \n",
      "==================================================================================================\n",
      " input_1 (InputLayer)           [(None, 21)]         0           []                               \n",
      "                                                                                                  \n",
      " dense (Dense)                  (None, 5)            110         ['input_1[0][0]']                \n",
      "                                                                                                  \n",
      " dense_1 (Dense)                (None, 5)            30          ['dense[0][0]']                  \n",
      "                                                                                                  \n",
      " dense_2 (Dense)                (None, 5)            30          ['dense_1[0][0]']                \n",
      "                                                                                                  \n",
      " dense_3 (Dense)                (None, 5)            30          ['dense_2[0][0]']                \n",
      "                                                                                                  \n",
      " dense_4 (Dense)                (None, 5)            30          ['dense_3[0][0]']                \n",
      "                                                                                                  \n",
      " dense_5 (Dense)                (None, 5)            30          ['dense[0][0]']                  \n",
      "                                                                                                  \n",
      " concatenate (Concatenate)      (None, 10)           0           ['dense_4[0][0]',                \n",
      "                                                                  'dense_5[0][0]']                \n",
      "                                                                                                  \n",
      " dense_6 (Dense)                (None, 4)            44          ['concatenate[0][0]']            \n",
      "                                                                                                  \n",
      "==================================================================================================\n",
      "Total params: 304\n",
      "Trainable params: 304\n",
      "Non-trainable params: 0\n",
      "__________________________________________________________________________________________________\n",
      "None\n"
     ]
    }
   ],
   "source": [
    "from tensorflow.keras import layers\n",
    "\n",
    "tf.keras.backend.clear_session()\n",
    "\n",
    "input_layer = Input(shape=(X.shape[1],))\n",
    "dense_layer_1 = Dense(5, activation='relu')(input_layer)\n",
    "dense_layer_2 = Dense(5, activation='relu')(dense_layer_1)\n",
    "dense_layer_3 = Dense(5, activation='relu')(dense_layer_2)\n",
    "dense_layer_4 = Dense(5, activation='relu')(dense_layer_3)\n",
    "dense_layer_5 = Dense(5, activation='relu')(dense_layer_4)\n",
    "dense_layer_6 = Dense(5, activation='relu')(dense_layer_1)  #conectamos directo con la primera capa\n",
    "union_layer = layers.concatenate([dense_layer_5,dense_layer_6 ])    #se unen ambas ramas\n",
    "output = Dense(y.shape[1], activation='softmax')(union_layer)\n",
    "\n",
    "model = Model(inputs=input_layer, outputs=output)\n",
    "\n",
    "print(model.summary())"
   ]
  },
  {
   "cell_type": "markdown",
   "id": "03d0b489",
   "metadata": {},
   "source": [
    "### Compile & Callbacks"
   ]
  },
  {
   "cell_type": "code",
   "execution_count": 66,
   "id": "10584a3e",
   "metadata": {},
   "outputs": [],
   "source": [
    "model.compile(loss='categorical_crossentropy', optimizer='adam', metrics=['acc'])\n",
    "early_stop = tf.keras.callbacks.EarlyStopping(patience = 10, restore_best_weights = True)"
   ]
  },
  {
   "cell_type": "code",
   "execution_count": 67,
   "id": "ab28f892",
   "metadata": {},
   "outputs": [
    {
     "name": "stdout",
     "output_type": "stream",
     "text": [
      "created folder :  logs/run_20230830-1655\n"
     ]
    }
   ],
   "source": [
    "folder2save = 'logs/run_' + datetime.now().strftime(\"%Y%m%d-%H%M\")   \n",
    "if not os.path.isdir(folder2save):\n",
    "    os.makedirs(folder2save)\n",
    "    print(\"created folder : \", folder2save)\n",
    "tensorboad_cb = keras.callbacks.TensorBoard(log_dir = folder2save, histogram_freq=1) "
   ]
  },
  {
   "cell_type": "code",
   "execution_count": 68,
   "id": "b91d8372",
   "metadata": {},
   "outputs": [
    {
     "name": "stdout",
     "output_type": "stream",
     "text": [
      "11/11 [==============================] - 0s 1ms/step\n"
     ]
    }
   ],
   "source": [
    "pred4 = np.argmax(model3.predict(X_test), axis = 1)\n",
    "y_test4= np.argmax(y_test, axis = 1)"
   ]
  },
  {
   "cell_type": "markdown",
   "id": "a3fdb877",
   "metadata": {},
   "source": [
    "### Fit"
   ]
  },
  {
   "cell_type": "code",
   "execution_count": 69,
   "id": "9b86f5e6",
   "metadata": {},
   "outputs": [
    {
     "name": "stdout",
     "output_type": "stream",
     "text": [
      "Epoch 1/100\n",
      "553/553 [==============================] - 2s 2ms/step - loss: 0.8163 - acc: 0.6606 - val_loss: 0.7446 - val_acc: 0.6498\n",
      "Epoch 2/100\n",
      "553/553 [==============================] - 1s 2ms/step - loss: 0.4758 - acc: 0.7837 - val_loss: 0.4466 - val_acc: 0.8123\n",
      "Epoch 3/100\n",
      "553/553 [==============================] - 1s 2ms/step - loss: 0.3025 - acc: 0.8715 - val_loss: 0.3646 - val_acc: 0.8267\n",
      "Epoch 4/100\n",
      "553/553 [==============================] - 1s 2ms/step - loss: 0.2491 - acc: 0.8869 - val_loss: 0.3042 - val_acc: 0.8556\n",
      "Epoch 5/100\n",
      "553/553 [==============================] - 1s 2ms/step - loss: 0.2263 - acc: 0.8995 - val_loss: 0.2973 - val_acc: 0.8412\n",
      "Epoch 6/100\n",
      "553/553 [==============================] - 1s 2ms/step - loss: 0.2090 - acc: 0.9104 - val_loss: 0.2648 - val_acc: 0.8628\n",
      "Epoch 7/100\n",
      "553/553 [==============================] - 1s 2ms/step - loss: 0.1869 - acc: 0.9204 - val_loss: 0.2403 - val_acc: 0.9206\n",
      "Epoch 8/100\n",
      "553/553 [==============================] - 1s 2ms/step - loss: 0.1785 - acc: 0.9258 - val_loss: 0.2290 - val_acc: 0.9134\n",
      "Epoch 9/100\n",
      "553/553 [==============================] - 1s 2ms/step - loss: 0.1687 - acc: 0.9285 - val_loss: 0.2359 - val_acc: 0.8881\n",
      "Epoch 10/100\n",
      "553/553 [==============================] - 1s 2ms/step - loss: 0.1571 - acc: 0.9312 - val_loss: 0.2377 - val_acc: 0.8917\n",
      "Epoch 11/100\n",
      "553/553 [==============================] - 1s 2ms/step - loss: 0.1581 - acc: 0.9367 - val_loss: 0.2062 - val_acc: 0.9242\n",
      "Epoch 12/100\n",
      "553/553 [==============================] - 1s 2ms/step - loss: 0.1458 - acc: 0.9430 - val_loss: 0.2068 - val_acc: 0.9206\n",
      "Epoch 13/100\n",
      "553/553 [==============================] - 1s 2ms/step - loss: 0.1405 - acc: 0.9439 - val_loss: 0.2067 - val_acc: 0.9314\n",
      "Epoch 14/100\n",
      "553/553 [==============================] - 1s 2ms/step - loss: 0.1343 - acc: 0.9548 - val_loss: 0.1986 - val_acc: 0.9206\n",
      "Epoch 15/100\n",
      "553/553 [==============================] - 1s 2ms/step - loss: 0.1291 - acc: 0.9520 - val_loss: 0.2200 - val_acc: 0.9170\n",
      "Epoch 16/100\n",
      "553/553 [==============================] - 1s 2ms/step - loss: 0.1193 - acc: 0.9557 - val_loss: 0.1972 - val_acc: 0.9350\n",
      "Epoch 17/100\n",
      "553/553 [==============================] - 1s 2ms/step - loss: 0.1186 - acc: 0.9557 - val_loss: 0.2003 - val_acc: 0.9242\n",
      "Epoch 18/100\n",
      "553/553 [==============================] - 1s 2ms/step - loss: 0.1120 - acc: 0.9593 - val_loss: 0.1932 - val_acc: 0.9314\n",
      "Epoch 19/100\n",
      "553/553 [==============================] - 1s 2ms/step - loss: 0.1057 - acc: 0.9548 - val_loss: 0.1792 - val_acc: 0.9386\n",
      "Epoch 20/100\n",
      "553/553 [==============================] - 1s 2ms/step - loss: 0.1065 - acc: 0.9566 - val_loss: 0.1667 - val_acc: 0.9495\n",
      "Epoch 21/100\n",
      "553/553 [==============================] - 1s 2ms/step - loss: 0.0994 - acc: 0.9593 - val_loss: 0.1621 - val_acc: 0.9458\n",
      "Epoch 22/100\n",
      "553/553 [==============================] - 1s 2ms/step - loss: 0.0932 - acc: 0.9665 - val_loss: 0.1659 - val_acc: 0.9603\n",
      "Epoch 23/100\n",
      "553/553 [==============================] - 1s 2ms/step - loss: 0.0937 - acc: 0.9647 - val_loss: 0.1601 - val_acc: 0.9458\n",
      "Epoch 24/100\n",
      "553/553 [==============================] - 1s 2ms/step - loss: 0.0913 - acc: 0.9710 - val_loss: 0.1560 - val_acc: 0.9567\n",
      "Epoch 25/100\n",
      "553/553 [==============================] - 1s 2ms/step - loss: 0.0891 - acc: 0.9665 - val_loss: 0.1487 - val_acc: 0.9458\n",
      "Epoch 26/100\n",
      "553/553 [==============================] - 1s 2ms/step - loss: 0.0874 - acc: 0.9665 - val_loss: 0.1530 - val_acc: 0.9386\n",
      "Epoch 27/100\n",
      "553/553 [==============================] - 1s 2ms/step - loss: 0.0825 - acc: 0.9692 - val_loss: 0.1785 - val_acc: 0.9170\n",
      "Epoch 28/100\n",
      "553/553 [==============================] - 1s 2ms/step - loss: 0.0813 - acc: 0.9701 - val_loss: 0.1673 - val_acc: 0.9314\n",
      "Epoch 29/100\n",
      "553/553 [==============================] - 1s 2ms/step - loss: 0.0811 - acc: 0.9692 - val_loss: 0.1524 - val_acc: 0.9495\n",
      "Epoch 30/100\n",
      "553/553 [==============================] - 1s 2ms/step - loss: 0.0785 - acc: 0.9656 - val_loss: 0.1776 - val_acc: 0.9278\n",
      "Epoch 31/100\n",
      "553/553 [==============================] - 1s 2ms/step - loss: 0.0730 - acc: 0.9738 - val_loss: 0.1358 - val_acc: 0.9495\n",
      "Epoch 32/100\n",
      "553/553 [==============================] - 1s 2ms/step - loss: 0.0672 - acc: 0.9747 - val_loss: 0.1476 - val_acc: 0.9495\n",
      "Epoch 33/100\n",
      "553/553 [==============================] - 1s 2ms/step - loss: 0.0727 - acc: 0.9710 - val_loss: 0.1423 - val_acc: 0.9386\n",
      "Epoch 34/100\n",
      "553/553 [==============================] - 1s 2ms/step - loss: 0.0707 - acc: 0.9774 - val_loss: 0.1632 - val_acc: 0.9422\n",
      "Epoch 35/100\n",
      "553/553 [==============================] - 1s 2ms/step - loss: 0.0647 - acc: 0.9783 - val_loss: 0.1878 - val_acc: 0.9170\n",
      "Epoch 36/100\n",
      "553/553 [==============================] - 1s 2ms/step - loss: 0.0656 - acc: 0.9774 - val_loss: 0.1548 - val_acc: 0.9170\n",
      "Epoch 37/100\n",
      "553/553 [==============================] - 1s 2ms/step - loss: 0.0642 - acc: 0.9783 - val_loss: 0.1646 - val_acc: 0.9350\n",
      "Epoch 38/100\n",
      "553/553 [==============================] - 1s 2ms/step - loss: 0.0627 - acc: 0.9783 - val_loss: 0.1463 - val_acc: 0.9458\n",
      "Epoch 39/100\n",
      "553/553 [==============================] - 1s 2ms/step - loss: 0.0597 - acc: 0.9810 - val_loss: 0.1350 - val_acc: 0.9386\n",
      "Epoch 40/100\n",
      "553/553 [==============================] - 1s 2ms/step - loss: 0.0539 - acc: 0.9819 - val_loss: 0.1713 - val_acc: 0.9314\n",
      "Epoch 41/100\n",
      "553/553 [==============================] - 1s 2ms/step - loss: 0.0567 - acc: 0.9774 - val_loss: 0.1498 - val_acc: 0.9495\n",
      "Epoch 42/100\n",
      "553/553 [==============================] - 1s 2ms/step - loss: 0.0537 - acc: 0.9819 - val_loss: 0.1906 - val_acc: 0.9242\n",
      "Epoch 43/100\n",
      "553/553 [==============================] - 1s 2ms/step - loss: 0.0567 - acc: 0.9801 - val_loss: 0.1569 - val_acc: 0.9422\n",
      "Epoch 44/100\n",
      "553/553 [==============================] - 1s 2ms/step - loss: 0.0560 - acc: 0.9810 - val_loss: 0.1398 - val_acc: 0.9422\n",
      "Epoch 45/100\n",
      "553/553 [==============================] - 1s 2ms/step - loss: 0.0565 - acc: 0.9792 - val_loss: 0.1252 - val_acc: 0.9495\n",
      "Epoch 46/100\n",
      "553/553 [==============================] - 1s 2ms/step - loss: 0.0534 - acc: 0.9828 - val_loss: 0.1493 - val_acc: 0.9386\n",
      "Epoch 47/100\n",
      "553/553 [==============================] - 1s 2ms/step - loss: 0.0512 - acc: 0.9846 - val_loss: 0.2035 - val_acc: 0.9206\n",
      "Epoch 48/100\n",
      "553/553 [==============================] - 1s 2ms/step - loss: 0.0501 - acc: 0.9864 - val_loss: 0.1527 - val_acc: 0.9350\n",
      "Epoch 49/100\n",
      "553/553 [==============================] - 1s 2ms/step - loss: 0.0544 - acc: 0.9828 - val_loss: 0.1629 - val_acc: 0.9422\n",
      "Epoch 50/100\n",
      "553/553 [==============================] - 1s 2ms/step - loss: 0.0543 - acc: 0.9837 - val_loss: 0.1362 - val_acc: 0.9458\n",
      "Epoch 51/100\n",
      "553/553 [==============================] - 1s 2ms/step - loss: 0.0474 - acc: 0.9855 - val_loss: 0.1809 - val_acc: 0.9278\n",
      "Epoch 52/100\n",
      "553/553 [==============================] - 1s 2ms/step - loss: 0.0453 - acc: 0.9864 - val_loss: 0.1800 - val_acc: 0.9206\n",
      "Epoch 53/100\n",
      "553/553 [==============================] - 1s 2ms/step - loss: 0.0519 - acc: 0.9837 - val_loss: 0.1197 - val_acc: 0.9495\n",
      "Epoch 54/100\n",
      "553/553 [==============================] - 1s 2ms/step - loss: 0.0495 - acc: 0.9828 - val_loss: 0.1361 - val_acc: 0.9458\n",
      "Epoch 55/100\n",
      "553/553 [==============================] - 1s 2ms/step - loss: 0.0446 - acc: 0.9873 - val_loss: 0.1532 - val_acc: 0.9458\n",
      "Epoch 56/100\n",
      "553/553 [==============================] - 1s 2ms/step - loss: 0.0484 - acc: 0.9864 - val_loss: 0.1627 - val_acc: 0.9278\n",
      "Epoch 57/100\n",
      "553/553 [==============================] - 1s 2ms/step - loss: 0.0472 - acc: 0.9810 - val_loss: 0.1507 - val_acc: 0.9314\n",
      "Epoch 58/100\n",
      "553/553 [==============================] - 1s 2ms/step - loss: 0.0461 - acc: 0.9855 - val_loss: 0.1217 - val_acc: 0.9567\n",
      "Epoch 59/100\n",
      "553/553 [==============================] - 1s 2ms/step - loss: 0.0484 - acc: 0.9846 - val_loss: 0.1424 - val_acc: 0.9495\n",
      "Epoch 60/100\n",
      "553/553 [==============================] - 1s 2ms/step - loss: 0.0449 - acc: 0.9873 - val_loss: 0.1470 - val_acc: 0.9350\n",
      "Epoch 61/100\n",
      "553/553 [==============================] - 1s 2ms/step - loss: 0.0435 - acc: 0.9855 - val_loss: 0.1823 - val_acc: 0.9278\n",
      "Epoch 62/100\n"
     ]
    },
    {
     "name": "stdout",
     "output_type": "stream",
     "text": [
      "553/553 [==============================] - 1s 2ms/step - loss: 0.0473 - acc: 0.9846 - val_loss: 0.1520 - val_acc: 0.9458\n",
      "Epoch 63/100\n",
      "553/553 [==============================] - 1s 2ms/step - loss: 0.0417 - acc: 0.9873 - val_loss: 0.1279 - val_acc: 0.9495\n"
     ]
    }
   ],
   "source": [
    "history = model.fit(X_train, y_train, batch_size=2, epochs=100, verbose=1, validation_split=0.2,callbacks = [early_stop,tensorboad_cb])"
   ]
  },
  {
   "cell_type": "markdown",
   "id": "7a09e218",
   "metadata": {},
   "source": [
    "### Results"
   ]
  },
  {
   "cell_type": "code",
   "execution_count": 70,
   "id": "5b5e7334",
   "metadata": {},
   "outputs": [
    {
     "name": "stdout",
     "output_type": "stream",
     "text": [
      "              precision    recall  f1-score   support\n",
      "\n",
      "           0       0.98      0.96      0.97        83\n",
      "           1       0.73      1.00      0.85        11\n",
      "           2       1.00      1.00      1.00       235\n",
      "           3       1.00      0.76      0.87        17\n",
      "\n",
      "    accuracy                           0.98       346\n",
      "   macro avg       0.93      0.93      0.92       346\n",
      "weighted avg       0.98      0.98      0.98       346\n",
      "\n"
     ]
    }
   ],
   "source": [
    "print( classification_report(y_test4, pred4) )\n",
    "classrep = classification_report(y_test4, pred4)"
   ]
  },
  {
   "cell_type": "code",
   "execution_count": 71,
   "id": "83b7826b",
   "metadata": {},
   "outputs": [
    {
     "name": "stdout",
     "output_type": "stream",
     "text": [
      "[[ 80   2   1   0]\n",
      " [  0  11   0   0]\n",
      " [  0   0 235   0]\n",
      " [  2   2   0  13]]\n"
     ]
    }
   ],
   "source": [
    "print( confusion_matrix(y_test4, pred4))\n",
    "confMat = confusion_matrix(y_test4, pred4)"
   ]
  },
  {
   "cell_type": "code",
   "execution_count": 72,
   "id": "81303e6b",
   "metadata": {},
   "outputs": [
    {
     "data": {
      "text/plain": [
       "Reusing TensorBoard on port 6006 (pid 7824), started 0:23:54 ago. (Use '!kill 7824' to kill it.)"
      ]
     },
     "metadata": {},
     "output_type": "display_data"
    },
    {
     "data": {
      "text/html": [
       "\n",
       "      <iframe id=\"tensorboard-frame-3701329848c9294e\" width=\"100%\" height=\"800\" frameborder=\"0\">\n",
       "      </iframe>\n",
       "      <script>\n",
       "        (function() {\n",
       "          const frame = document.getElementById(\"tensorboard-frame-3701329848c9294e\");\n",
       "          const url = new URL(\"/\", window.location);\n",
       "          const port = 6006;\n",
       "          if (port) {\n",
       "            url.port = port;\n",
       "          }\n",
       "          frame.src = url;\n",
       "        })();\n",
       "      </script>\n",
       "    "
      ],
      "text/plain": [
       "<IPython.core.display.HTML object>"
      ]
     },
     "metadata": {},
     "output_type": "display_data"
    }
   ],
   "source": [
    "%tensorboard --logdir logs"
   ]
  },
  {
   "cell_type": "markdown",
   "id": "d9f2f7f2",
   "metadata": {},
   "source": [
    "## 2.5 Semilla y Batch Normalization "
   ]
  },
  {
   "cell_type": "code",
   "execution_count": 64,
   "id": "8d7faa1a",
   "metadata": {},
   "outputs": [
    {
     "name": "stdout",
     "output_type": "stream",
     "text": [
      "Model: \"sequential\"\n",
      "_________________________________________________________________\n",
      " Layer (type)                Output Shape              Param #   \n",
      "=================================================================\n",
      " dense (Dense)               (None, 8)                 176       \n",
      "                                                                 \n",
      " batch_normalization (BatchN  (None, 8)                32        \n",
      " ormalization)                                                   \n",
      "                                                                 \n",
      " dense_1 (Dense)             (None, 8)                 72        \n",
      "                                                                 \n",
      " batch_normalization_1 (Batc  (None, 8)                32        \n",
      " hNormalization)                                                 \n",
      "                                                                 \n",
      " dense_2 (Dense)             (None, 8)                 72        \n",
      "                                                                 \n",
      " batch_normalization_2 (Batc  (None, 8)                32        \n",
      " hNormalization)                                                 \n",
      "                                                                 \n",
      " dense_3 (Dense)             (None, 1)                 9         \n",
      "                                                                 \n",
      "=================================================================\n",
      "Total params: 425\n",
      "Trainable params: 377\n",
      "Non-trainable params: 48\n",
      "_________________________________________________________________\n"
     ]
    }
   ],
   "source": [
    "tf.random.set_seed(42)\n",
    "\n",
    "keras.backend.clear_session()\n",
    "\n",
    "clf = keras.models.Sequential()\n",
    "clf.add( keras.layers.Input(shape = X_train.shape[1:]))\n",
    "clf.add( keras.layers.Dense(units = 8, kernel_initializer='he_normal', activation= 'elu'))\n",
    "clf.add( keras.layers.BatchNormalization())\n",
    "clf.add( keras.layers.Dense(units = 8, kernel_initializer='he_normal', activation= 'elu'))\n",
    "clf.add( keras.layers.BatchNormalization())\n",
    "clf.add( keras.layers.Dense(units = 8, kernel_initializer='he_normal', activation= 'elu'))\n",
    "clf.add( keras.layers.BatchNormalization())\n",
    "clf.add( keras.layers.Dense(units = 1, activation = 'sigmoid'))\n",
    "\n",
    "clf.compile(optimizer = 'adam', loss = tf.keras.losses.BinaryCrossentropy(), metrics = 'accuracy')\n",
    "\n",
    "clf.summary()"
   ]
  },
  {
   "cell_type": "markdown",
   "id": "3b48fb16",
   "metadata": {},
   "source": [
    "# 3.1) Clasification Problem with Mnist data set and functions"
   ]
  },
  {
   "cell_type": "markdown",
   "id": "0623c1b6",
   "metadata": {},
   "source": [
    "Download the FashionMNIST dataset and scale it:"
   ]
  },
  {
   "cell_type": "code",
   "execution_count": 75,
   "id": "abd72f81",
   "metadata": {},
   "outputs": [],
   "source": [
    "fashion_mnist = tf.keras.datasets.fashion_mnist\n",
    "\n",
    "(x_train, y_train),(x_test, y_test) = fashion_mnist.load_data()\n",
    "x_train, x_test = x_train / 255.0, x_test / 255.0"
   ]
  },
  {
   "cell_type": "markdown",
   "id": "9a2db0f9",
   "metadata": {},
   "source": [
    "Create a very simple model:"
   ]
  },
  {
   "cell_type": "code",
   "execution_count": 76,
   "id": "4c7597d0",
   "metadata": {},
   "outputs": [],
   "source": [
    "def create_model():\n",
    "  return tf.keras.models.Sequential([\n",
    "    tf.keras.layers.Flatten(input_shape=(28, 28)),\n",
    "    tf.keras.layers.Dense(512, activation='relu'),\n",
    "    tf.keras.layers.Dropout(0.2),\n",
    "    tf.keras.layers.Dense(10, activation='softmax')\n",
    "  ])"
   ]
  },
  {
   "cell_type": "markdown",
   "id": "adb2e4a6",
   "metadata": {},
   "source": [
    "Train the model using Keras and the TensorBoard callback:"
   ]
  },
  {
   "cell_type": "code",
   "execution_count": 79,
   "id": "72c83d55",
   "metadata": {},
   "outputs": [
    {
     "name": "stdout",
     "output_type": "stream",
     "text": [
      "Epoch 1/5\n",
      "1875/1875 [==============================] - 12s 6ms/step - loss: 0.4979 - accuracy: 0.8223 - val_loss: 0.4120 - val_accuracy: 0.8511\n",
      "Epoch 2/5\n",
      "1875/1875 [==============================] - 11s 6ms/step - loss: 0.3820 - accuracy: 0.8597 - val_loss: 0.4412 - val_accuracy: 0.8486\n",
      "Epoch 3/5\n",
      "1875/1875 [==============================] - 10s 6ms/step - loss: 0.3479 - accuracy: 0.8713 - val_loss: 0.3731 - val_accuracy: 0.8629\n",
      "Epoch 4/5\n",
      "1875/1875 [==============================] - 10s 6ms/step - loss: 0.3291 - accuracy: 0.8796 - val_loss: 0.3746 - val_accuracy: 0.8647\n",
      "Epoch 5/5\n",
      "1875/1875 [==============================] - 11s 6ms/step - loss: 0.3124 - accuracy: 0.8838 - val_loss: 0.3557 - val_accuracy: 0.8710\n"
     ]
    }
   ],
   "source": [
    "def train_model():\n",
    "  \n",
    "  model = create_model()\n",
    "  model.compile(optimizer='adam',\n",
    "                loss='sparse_categorical_crossentropy',\n",
    "                metrics=['accuracy'])\n",
    "\n",
    "  logdir = os.path.join(\"logs\", datetime.datetime.now().strftime(\"%Y%m%d-%H%M%S\"))\n",
    "  tensorboard_callback = tf.keras.callbacks.TensorBoard(logdir, histogram_freq=1)\n",
    "\n",
    "  model.fit(x=x_train, \n",
    "            y=y_train, \n",
    "            epochs=5, \n",
    "            validation_data=(x_test, y_test), \n",
    "            callbacks=[tensorboard_callback])\n",
    "\n",
    "train_model()"
   ]
  },
  {
   "cell_type": "code",
   "execution_count": 80,
   "id": "76af1ffc",
   "metadata": {},
   "outputs": [
    {
     "data": {
      "text/plain": [
       "Reusing TensorBoard on port 6006 (pid 7824), started 0:42:58 ago. (Use '!kill 7824' to kill it.)"
      ]
     },
     "metadata": {},
     "output_type": "display_data"
    },
    {
     "data": {
      "text/html": [
       "\n",
       "      <iframe id=\"tensorboard-frame-6c51af68e696c913\" width=\"100%\" height=\"800\" frameborder=\"0\">\n",
       "      </iframe>\n",
       "      <script>\n",
       "        (function() {\n",
       "          const frame = document.getElementById(\"tensorboard-frame-6c51af68e696c913\");\n",
       "          const url = new URL(\"/\", window.location);\n",
       "          const port = 6006;\n",
       "          if (port) {\n",
       "            url.port = port;\n",
       "          }\n",
       "          frame.src = url;\n",
       "        })();\n",
       "      </script>\n",
       "    "
      ],
      "text/plain": [
       "<IPython.core.display.HTML object>"
      ]
     },
     "metadata": {},
     "output_type": "display_data"
    }
   ],
   "source": [
    "%tensorboard --logdir logs"
   ]
  },
  {
   "cell_type": "code",
   "execution_count": null,
   "id": "a4019eda",
   "metadata": {},
   "outputs": [],
   "source": []
  }
 ],
 "metadata": {
  "kernelspec": {
   "display_name": "Python 3 (ipykernel)",
   "language": "python",
   "name": "python3"
  },
  "language_info": {
   "codemirror_mode": {
    "name": "ipython",
    "version": 3
   },
   "file_extension": ".py",
   "mimetype": "text/x-python",
   "name": "python",
   "nbconvert_exporter": "python",
   "pygments_lexer": "ipython3",
   "version": "3.9.16"
  }
 },
 "nbformat": 4,
 "nbformat_minor": 5
}
